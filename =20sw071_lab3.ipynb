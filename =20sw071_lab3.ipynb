{
  "nbformat": 4,
  "nbformat_minor": 0,
  "metadata": {
    "colab": {
      "provenance": [],
      "authorship_tag": "ABX9TyNQ1ZhUmyTrehyOMFT80ViA",
      "include_colab_link": true
    },
    "kernelspec": {
      "name": "python3",
      "display_name": "Python 3"
    },
    "language_info": {
      "name": "python"
    }
  },
  "cells": [
    {
      "cell_type": "markdown",
      "metadata": {
        "id": "view-in-github",
        "colab_type": "text"
      },
      "source": [
        "<a href=\"https://colab.research.google.com/github/KinzaAslam/KinzaAslam-Data_Science_-_Analytics_20SW071/blob/main/%3D20sw071_lab3.ipynb\" target=\"_parent\"><img src=\"https://colab.research.google.com/assets/colab-badge.svg\" alt=\"Open In Colab\"/></a>"
      ]
    },
    {
      "cell_type": "code",
      "execution_count": 6,
      "metadata": {
        "colab": {
          "base_uri": "https://localhost:8080/"
        },
        "id": "sHliY-WgsVy5",
        "outputId": "7bf1432b-51dd-4898-ebdf-f96cd175c81a"
      },
      "outputs": [
        {
          "output_type": "stream",
          "name": "stdout",
          "text": [
            "20.0\n",
            "500.0\n"
          ]
        }
      ],
      "source": [
        "def population_density(population, land_area):\n",
        "    if land_area <= 0:\n",
        "        return -1;\n",
        "    return population / land_area\n",
        "\n",
        "\n",
        "print(population_density(100000, 5000))\n",
        "print(population_density(5000000, 10000))"
      ]
    },
    {
      "cell_type": "code",
      "source": [
        "def readable_timedelta(days):\n",
        "    weeks = days // 7\n",
        "    remaining_days = days % 7\n",
        "    return f\"{weeks} week(s) and {remaining_days} day(s).\"\n",
        "\n",
        "\n",
        "print(readable_timedelta(10))\n"
      ],
      "metadata": {
        "colab": {
          "base_uri": "https://localhost:8080/"
        },
        "id": "KdFhtAONvJoU",
        "outputId": "78db1b4c-b4be-48c5-d499-fe4c87b9d477"
      },
      "execution_count": 4,
      "outputs": [
        {
          "output_type": "stream",
          "name": "stdout",
          "text": [
            "1 week(s) and 3 day(s).\n"
          ]
        }
      ]
    },
    {
      "cell_type": "code",
      "source": [
        "numbers = [[34, 63, 88, 71, 29],[90, 78, 51, 27, 45],[63, 37, 85, 46, 22],[51, 22, 34, 11, 18]]\n",
        "mean = lambda num_list:sum(num_list) / len(num_list)\n",
        "averages = list(map(mean, numbers))\n",
        "print(averages)"
      ],
      "metadata": {
        "colab": {
          "base_uri": "https://localhost:8080/"
        },
        "id": "ghWmcaJfwZhI",
        "outputId": "f0ef2665-cc04-4ce1-8480-4ea8ab1c0456"
      },
      "execution_count": 7,
      "outputs": [
        {
          "output_type": "stream",
          "name": "stdout",
          "text": [
            "[57.0, 58.2, 50.6, 27.2]\n"
          ]
        }
      ]
    },
    {
      "cell_type": "code",
      "source": [
        "cities = [\"New York City\", \"Los Angeles\", \"Chicago\", \"Mountain View\", \"Denver\", \"Boston\"]\n",
        "is_short=lambda name:len(name) < 10\n",
        "short_cities = list(filter(is_short, cities))\n",
        "print(short_cities)"
      ],
      "metadata": {
        "colab": {
          "base_uri": "https://localhost:8080/"
        },
        "id": "NKtE_HFV0F39",
        "outputId": "0042f1a0-b8f9-4ef0-93fd-571c49bcd2d3"
      },
      "execution_count": 12,
      "outputs": [
        {
          "output_type": "stream",
          "name": "stdout",
          "text": [
            "['Chicago', 'Denver', 'Boston']\n"
          ]
        }
      ]
    },
    {
      "cell_type": "code",
      "source": [
        "\n",
        "names_input = input(\"Enter a list of names separated by commas: \")\n",
        "names = names_input.split(',')\n",
        "\n",
        "\n",
        "assignments_input = input(\"Enter a list of the number of missing assignments separated by commas: \")\n",
        "assignments = list(map(int, assignments_input.split(',')))\n",
        "\n",
        "\n",
        "grades_input = input(\"Enter a list of grades separated by commas: \")\n",
        "grades = list(map(float, grades_input.split(',')))\n",
        "\n",
        "\n",
        "message = \"Hi {},\\n\\nThis is a reminder that you have {} assignments left to submit before you can graduate. Your current grade is {} and can increase to {} if you submit all assignments before the due date.\\n\\n\"\n",
        "\n",
        "for name, assignment_count, grade in zip(names, assignments, grades):\n",
        "    potential_grade = grade + 2 * assignment_count\n",
        "    print(message.format(name, assignment_count, grade, potential_grade))"
      ],
      "metadata": {
        "colab": {
          "base_uri": "https://localhost:8080/"
        },
        "id": "J_qrond_4AN0",
        "outputId": "9b63b4b2-e350-49bd-8b7f-a2e589bc3afb"
      },
      "execution_count": 15,
      "outputs": [
        {
          "output_type": "stream",
          "name": "stdout",
          "text": [
            "Enter a list of names separated by commas: Kinza, Kashaf, Ambar\n",
            "Enter a list of the number of missing assignments separated by commas: 1,2,3\n",
            "Enter a list of grades separated by commas: 80.0 , 90.0, 86,0\n",
            "Hi Kinza,\n",
            "\n",
            "This is a reminder that you have 1 assignments left to submit before you can graduate. Your current grade is 80.0 and can increase to 82.0 if you submit all assignments before the due date.\n",
            "\n",
            "\n",
            "Hi  Kashaf,\n",
            "\n",
            "This is a reminder that you have 2 assignments left to submit before you can graduate. Your current grade is 90.0 and can increase to 94.0 if you submit all assignments before the due date.\n",
            "\n",
            "\n",
            "Hi  Ambar,\n",
            "\n",
            "This is a reminder that you have 3 assignments left to submit before you can graduate. Your current grade is 86.0 and can increase to 92.0 if you submit all assignments before the due date.\n",
            "\n",
            "\n"
          ]
        }
      ]
    },
    {
      "cell_type": "code",
      "source": [
        "file_content = \"\"\"We're the knights of the round table\n",
        "We dance whenever we're able\"\"\"\n",
        "with open(\"camelot.txt\", \"w\") as f:\n",
        "    f.write(file_content)\n",
        "\n",
        "# Opening the file in read mode\n",
        "with open(\"camelot.txt\", \"r\") as f:\n",
        "    # Reading the first 10 characters\n",
        "    first_10_chars = f.read(10)\n",
        "    print(\"First 10 characters:\")\n",
        "    print(first_10_chars)\n",
        "\n",
        "    # Reading the next 15 characters from the current position\n",
        "    next_15_chars = f.read(15)\n",
        "    print(\"\\nNext 15 characters:\")\n",
        "    print(next_15_chars)\n",
        "\n",
        "    # Reading the remaining content of the file from the current position\n",
        "    rest_of_the_file = f.read()\n",
        "    print(\"\\nRest of the file:\")\n",
        "    print(rest_of_the_file)"
      ],
      "metadata": {
        "colab": {
          "base_uri": "https://localhost:8080/"
        },
        "id": "ptWpkqpq7_9Y",
        "outputId": "99f38039-74c4-452d-fce2-993dc99295d1"
      },
      "execution_count": 16,
      "outputs": [
        {
          "output_type": "stream",
          "name": "stdout",
          "text": [
            "First 10 characters:\n",
            "We're the \n",
            "\n",
            "Next 15 characters:\n",
            "knights of the \n",
            "\n",
            "Rest of the file:\n",
            "round table\n",
            "We dance whenever we're able\n"
          ]
        }
      ]
    },
    {
      "cell_type": "code",
      "source": [
        "def create_cast_list(filename):\n",
        "    cast_list = []\n",
        "    with open(filename, 'r') as file:\n",
        "        for line in file:\n",
        "            actor_name, _ = line.strip().split(',', 1)\n",
        "            cast_list.append(actor_name)\n",
        "    return cast_list\n",
        "\n",
        "cast_list = create_cast_list('flying_circus_cast.txt')\n",
        "for actor in cast_list:\n",
        "    print(actor)"
      ],
      "metadata": {
        "colab": {
          "base_uri": "https://localhost:8080/"
        },
        "id": "e50hMVO8AOPy",
        "outputId": "95174967-cad3-4d9f-cac2-0047554c6f05"
      },
      "execution_count": 17,
      "outputs": [
        {
          "output_type": "stream",
          "name": "stdout",
          "text": [
            "Graham Chapman\n",
            "Eric Idle\n",
            "Terry Jones\n",
            "Michael Palin\n",
            "Terry Gilliam\n",
            "John Cleese\n",
            "Carol Cleveland\n",
            "Ian Davidson\n",
            "John Hughman\n",
            "The Fred Tomlinson Singers\n",
            "Connie Booth\n",
            "Bob Raymond\n",
            "Lyn Ashley\n",
            "Rita Davies\n",
            "Stanley Mason\n",
            "David Ballantyne\n",
            "Donna Reading\n",
            "Peter Brett\n",
            "Maureen Flanagan\n",
            "Katya Wyeth\n",
            "Frank Lester\n",
            "Neil Innes\n",
            "Dick Vosburgh\n",
            "Sandra Richards\n",
            "Julia Breck\n",
            "Nicki Howorth\n",
            "Jimmy Hill\n",
            "Barry Cryer\n",
            "Jeannette Wild\n",
            "Marjorie Wilde\n",
            "Marie Anderson\n",
            "Caron Gardner\n",
            "Nosher Powell\n",
            "Carolae Donoghue\n",
            "Vincent Wong\n",
            "Helena Clayton\n",
            "Nigel Jones\n",
            "Roy Gunson\n",
            "Daphne Davey\n",
            "Stenson Falke\n",
            "Alexander Curry\n",
            "Frank Williams\n",
            "Ralph Wood\n",
            "Rosalind Bailey\n",
            "Marion Mould\n",
            "Sheila Sands\n",
            "Richard Baker\n",
            "Douglas Adams\n",
            "Ewa Aulin\n",
            "Reginald Bosanquet\n",
            "Barbara Lindley\n",
            "Roy Brent\n",
            "Jonas Card\n",
            "Tony Christopher\n",
            "Beulah Hughes\n",
            "Peter Kodak\n",
            "Lulu\n",
            "Jay Neill\n",
            "Graham Skidmore\n",
            "Ringo Starr\n",
            "Fred Tomlinson\n",
            "David Hamilton\n",
            "Suzy Mandel\n",
            "Peter Woods\n"
          ]
        }
      ]
    },
    {
      "cell_type": "code",
      "source": [],
      "metadata": {
        "id": "1k5YFrLQ8rd-"
      },
      "execution_count": null,
      "outputs": []
    }
  ]
}