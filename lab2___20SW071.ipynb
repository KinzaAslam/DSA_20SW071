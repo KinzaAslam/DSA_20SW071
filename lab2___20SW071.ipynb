{
  "nbformat": 4,
  "nbformat_minor": 0,
  "metadata": {
    "colab": {
      "provenance": [],
      "authorship_tag": "ABX9TyOVemftTeud8QaDV8YkOMXA",
      "include_colab_link": true
    },
    "kernelspec": {
      "name": "python3",
      "display_name": "Python 3"
    },
    "language_info": {
      "name": "python"
    }
  },
  "cells": [
    {
      "cell_type": "markdown",
      "metadata": {
        "id": "view-in-github",
        "colab_type": "text"
      },
      "source": [
        "<a href=\"https://colab.research.google.com/github/KinzaAslam/KinzaAslam-Data_Science_-_Analytics_20SW071/blob/main/lab2___20SW071.ipynb\" target=\"_parent\"><img src=\"https://colab.research.google.com/assets/colab-badge.svg\" alt=\"Open In Colab\"/></a>"
      ]
    },
    {
      "cell_type": "code",
      "execution_count": 1,
      "metadata": {
        "colab": {
          "base_uri": "https://localhost:8080/"
        },
        "id": "Jy-v_38GYosG",
        "outputId": "baf0e6b6-bfeb-47e2-8fcd-734e99d41143"
      },
      "outputs": [
        {
          "output_type": "stream",
          "name": "stdout",
          "text": [
            "Enter Your Points:30\n",
            "Prize:Wooden Rabbit\n"
          ]
        }
      ],
      "source": [
        "#########################Task 1\n",
        "points=int(input(\"Enter Your Points:\"));\n",
        "\n",
        "if  points>=1 and points<=50:\n",
        "  print(\"Prize:Wooden Rabbit\");\n",
        "\n",
        "elif points >=51 and points<=150:\n",
        "  print(\"Prize:No Prize\");\n",
        "elif points >=151 and points<=180:\n",
        "  print(\"Prize:Water Thin Mint\");\n",
        "elif points >=181 and points<=200:\n",
        "  print(\"Prize:Penguin\");\n"
      ]
    },
    {
      "cell_type": "code",
      "source": [
        " answer=5;\n",
        "guess=int(input(\"Enter You guess\"));\n",
        "\n",
        "if guess < answer:\n",
        "    print(\"Your guess is too low.\")\n",
        "elif guess > answer:\n",
        "    print(\"Your guess is too high.\")\n",
        "else:\n",
        "    print(\"Congratulations! Your guess is correct.\")\n"
      ],
      "metadata": {
        "colab": {
          "base_uri": "https://localhost:8080/"
        },
        "id": "RYwlXz08ZIy5",
        "outputId": "be9e2d83-b0b9-4c12-abab-fa6cbf2ffa7b"
      },
      "execution_count": 3,
      "outputs": [
        {
          "output_type": "stream",
          "name": "stdout",
          "text": [
            "Enter You guess8\n",
            "Your guess is too high.\n"
          ]
        }
      ]
    },
    {
      "cell_type": "code",
      "source": [
        "def calculate_tax(amount, state):\n",
        "    # Define the tax rates for each state\n",
        "    tax_rates = {\n",
        "        'CA': 0.075,\n",
        "        'MN': 0.095,\n",
        "        'NY': 0.089\n",
        "    }\n",
        "\n",
        "    # Check if the state is in the tax_rates dictionary\n",
        "    if state in tax_rates:\n",
        "        tax_rate = tax_rates[state]\n",
        "        tax_amount = amount * tax_rate\n",
        "        total_amount = amount + tax_amount\n",
        "        return total_amount\n",
        "    else:\n",
        "        print(\"Invalid state code. Cannot calculate tax.\")\n",
        "        return None\n",
        "\n",
        "# Test the function\n",
        "purchase_amount = float(input(\"Enter the purchase amount: \"))\n",
        "state_code = input(\"Enter the state code (CA, MN, or NY): \")\n",
        "\n",
        "total_amount_with_tax = calculate_tax(purchase_amount, state_code)\n",
        "if total_amount_with_tax is not None:\n",
        "    print(f\"Total amount with tax: ${total_amount_with_tax:.2f}\")\n"
      ],
      "metadata": {
        "colab": {
          "base_uri": "https://localhost:8080/"
        },
        "id": "td5DhH1NZmYV",
        "outputId": "1b7d7f90-ea84-4831-fd25-2ef9c57f3272"
      },
      "execution_count": 4,
      "outputs": [
        {
          "output_type": "stream",
          "name": "stdout",
          "text": [
            "Enter the purchase amount: 30\n",
            "Enter the state code (CA, MN, or NY): 0.075\n",
            "Invalid state code. Cannot calculate tax.\n"
          ]
        }
      ]
    },
    {
      "cell_type": "code",
      "source": [
        "sentence = [\"the\", \"quick\", \"brown\", \"fox\", \"jumped\", \"over\", \"the\",\n",
        "\"lazy\", \"dog\"]\n",
        "\n",
        "for element in sentence:\n",
        "    print(element);\n",
        ""
      ],
      "metadata": {
        "colab": {
          "base_uri": "https://localhost:8080/"
        },
        "id": "SUfL7TypZSGI",
        "outputId": "fdf4fd91-dd6a-4051-cf77-48b51ee66f47"
      },
      "execution_count": 5,
      "outputs": [
        {
          "output_type": "stream",
          "name": "stdout",
          "text": [
            "the\n",
            "quick\n",
            "brown\n",
            "fox\n",
            "jumped\n",
            "over\n",
            "the\n",
            "lazy\n",
            "dog\n"
          ]
        }
      ]
    },
    {
      "cell_type": "code",
      "source": [
        "number_list = list(range(1, 31))\n",
        "multiples_of_5 = [num for num in number_list if num % 5 == 0 ]\n",
        "print(multiples_of_5);"
      ],
      "metadata": {
        "colab": {
          "base_uri": "https://localhost:8080/"
        },
        "id": "naB9fCyFZ2aq",
        "outputId": "dda4a23b-d23a-4163-f481-981b061e2509"
      },
      "execution_count": 9,
      "outputs": [
        {
          "output_type": "stream",
          "name": "stdout",
          "text": [
            "[5, 10, 15, 20, 25, 30]\n"
          ]
        }
      ]
    },
    {
      "cell_type": "code",
      "source": [
        "names = [\"Kinza\", \"Shifa\", \"Faiz\", \"Tom and Jerry\", \"Kashif\"]\n",
        "first_names = [name.split()[0].lower() for name in names]\n",
        "print(first_names)\n"
      ],
      "metadata": {
        "colab": {
          "base_uri": "https://localhost:8080/"
        },
        "id": "HgFTMEKOaKv-",
        "outputId": "9668fe28-4000-498f-9ce3-78e73dc9970e"
      },
      "execution_count": 10,
      "outputs": [
        {
          "output_type": "stream",
          "name": "stdout",
          "text": [
            "['kinza', 'shifa', 'faiz', 'tom', 'kashif']\n"
          ]
        }
      ]
    },
    {
      "cell_type": "code",
      "source": [
        "multiples_3 = [num * 3 for num in range(1, 21)]\n",
        "print(multiples_3)"
      ],
      "metadata": {
        "colab": {
          "base_uri": "https://localhost:8080/"
        },
        "id": "5CBkL9AYaP_C",
        "outputId": "ac8b939a-86b1-40a5-9326-e4c4fede8bda"
      },
      "execution_count": 11,
      "outputs": [
        {
          "output_type": "stream",
          "name": "stdout",
          "text": [
            "[3, 6, 9, 12, 15, 18, 21, 24, 27, 30, 33, 36, 39, 42, 45, 48, 51, 54, 57, 60]\n"
          ]
        }
      ]
    },
    {
      "cell_type": "code",
      "source": [
        "scores = {\n",
        "    \"Kinza\": 70,\n",
        "    \"Shifa\": 35,\n",
        "    \"Faiz\": 82,\n",
        "    \"Tom & Jerry\": 23,\n",
        "    \"Kashif\": 98\n",
        "}\n",
        "\n",
        "passed = [name if score >= 65 else name + \" (Failed)\" for name, score in scores.items()]\n",
        "print(passed);\n"
      ],
      "metadata": {
        "colab": {
          "base_uri": "https://localhost:8080/"
        },
        "id": "t59dydZ1aUgo",
        "outputId": "cd809ebd-70e1-48bb-efd9-10eb040d98b7"
      },
      "execution_count": 12,
      "outputs": [
        {
          "output_type": "stream",
          "name": "stdout",
          "text": [
            "['Kinza', 'Shifa (Failed)', 'Faiz', 'Tom & Jerry (Failed)', 'Kashif']\n"
          ]
        }
      ]
    },
    {
      "cell_type": "markdown",
      "source": [],
      "metadata": {
        "id": "8ZMaRT1SaUN5"
      }
    },
    {
      "cell_type": "code",
      "source": [
        "cast_names = [\"KAmboh\", \"Sheikh\", \"Rajput\", \"Memon\", \"Arain\"]\n",
        "cast_heights = [72, 68, 72, 66, 76]\n",
        "\n",
        "cast = dict(zip(cast_names, cast_heights))\n",
        "print(cast)"
      ],
      "metadata": {
        "colab": {
          "base_uri": "https://localhost:8080/"
        },
        "id": "m9GfE4dOaYrF",
        "outputId": "aa470461-3102-4083-f41b-2c8915f6966f"
      },
      "execution_count": 13,
      "outputs": [
        {
          "output_type": "stream",
          "name": "stdout",
          "text": [
            "{'KAmboh': 72, 'Sheikh': 68, 'Rajput': 72, 'Memon': 66, 'Arain': 76}\n"
          ]
        }
      ]
    },
    {
      "cell_type": "code",
      "source": [
        "cast = [\"KAmboh\", \"Sheikh\", \"Rajput\", \"Memon\", \"Arain\"]\n",
        "heights = [72, 68, 72, 66, 76]\n",
        "\n",
        "for index, name in enumerate(cast):\n",
        "    cast[index] = name + str(heights[index])\n",
        "\n",
        "print(cast)"
      ],
      "metadata": {
        "colab": {
          "base_uri": "https://localhost:8080/"
        },
        "id": "S9vYjmmnaclL",
        "outputId": "4a99657a-0b6d-47e6-d187-5be83c969889"
      },
      "execution_count": 14,
      "outputs": [
        {
          "output_type": "stream",
          "name": "stdout",
          "text": [
            "['KAmboh72', 'Sheikh68', 'Rajput72', 'Memon66', 'Arain76']\n"
          ]
        }
      ]
    }
  ]
}