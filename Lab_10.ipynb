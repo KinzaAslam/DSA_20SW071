{
  "nbformat": 4,
  "nbformat_minor": 0,
  "metadata": {
    "colab": {
      "provenance": [],
      "authorship_tag": "ABX9TyPXzsOTvxLeHbIaIHEjrZhP",
      "include_colab_link": true
    },
    "kernelspec": {
      "name": "python3",
      "display_name": "Python 3"
    },
    "language_info": {
      "name": "python"
    }
  },
  "cells": [
    {
      "cell_type": "markdown",
      "metadata": {
        "id": "view-in-github",
        "colab_type": "text"
      },
      "source": [
        "<a href=\"https://colab.research.google.com/github/KinzaAslam/DSA_20SW071/blob/main/Lab_10.ipynb\" target=\"_parent\"><img src=\"https://colab.research.google.com/assets/colab-badge.svg\" alt=\"Open In Colab\"/></a>"
      ]
    },
    {
      "cell_type": "code",
      "execution_count": null,
      "metadata": {
        "id": "6thOG9Sgl1RK"
      },
      "outputs": [],
      "source": [
        "# Import necessary libraries\n",
        "import pandas as pd\n",
        "from sklearn.model_selection import train_test_split\n",
        "from sklearn.tree import DecisionTreeClassifier\n",
        "from sklearn.naive_bayes import GaussianNB\n",
        "from sklearn.metrics import accuracy_score, precision_score, recall_score, f1_score"
      ]
    },
    {
      "cell_type": "code",
      "source": [
        "# Load your dataset (replace 'data.csv' with your dataset's filename)\n",
        "# Load your dataset (replace 'data.csv' with your dataset's filename)\n",
        "data = pd.read_csv('DataSet.csv')\n",
        "print(data)"
      ],
      "metadata": {
        "id": "tSY-112cl5Ds",
        "colab": {
          "base_uri": "https://localhost:8080/"
        },
        "outputId": "34fe8b12-dab2-40ca-9f5c-ff8aeb4054f4"
      },
      "execution_count": 20,
      "outputs": [
        {
          "output_type": "stream",
          "name": "stdout",
          "text": [
            "       step      type     amount     nameOrig  oldbalanceOrg  newbalanceOrig  \\\n",
            "0         1   PAYMENT    9839.64  C1231006815       170136.0       160296.36   \n",
            "1         1   PAYMENT    1864.28  C1666544295        21249.0        19384.72   \n",
            "2         1  TRANSFER     181.00  C1305486145          181.0            0.00   \n",
            "3         1  CASH_OUT     181.00   C840083671          181.0            0.00   \n",
            "4         1   PAYMENT   11668.14  C2048537720        41554.0        29885.86   \n",
            "...     ...       ...        ...          ...            ...             ...   \n",
            "28292     8  CASH_OUT    7270.37   C457003860            0.0            0.00   \n",
            "28293     8  CASH_OUT  113043.31  C1845952463            0.0            0.00   \n",
            "28294     8  CASH_OUT   89346.62   C140193335            0.0            0.00   \n",
            "28295     8  CASH_OUT  138651.85   C297851161            0.0            0.00   \n",
            "28296     8  CASH_OUT   61553.92  C1612091270            0.0            0.00   \n",
            "\n",
            "          nameDest  oldbalanceDest  newbalanceDest  isFraud  isFlaggedFraud  \n",
            "0      M1979787155            0.00            0.00      0.0             0.0  \n",
            "1      M2044282225            0.00            0.00      0.0             0.0  \n",
            "2       C553264065            0.00            0.00      1.0             0.0  \n",
            "3        C38997010        21182.00            0.00      1.0             0.0  \n",
            "4      M1230701703            0.00            0.00      0.0             0.0  \n",
            "...            ...             ...             ...      ...             ...  \n",
            "28292   C219416103      1523685.68      1530956.05      0.0             0.0  \n",
            "28293   C483817115     10085462.79     10014348.15      0.0             0.0  \n",
            "28294  C1326121635       112673.41       202020.02      0.0             0.0  \n",
            "28295  C1034382650       142758.39       281410.24      0.0             0.0  \n",
            "28296     C8733802       242151.60        30370.00      NaN             NaN  \n",
            "\n",
            "[28297 rows x 11 columns]\n"
          ]
        }
      ]
    },
    {
      "cell_type": "code",
      "source": [
        " # Drop rows with missing values (NaN)\n",
        "data = data.dropna()\n",
        "\n",
        "# Check the column names in your dataset\n",
        "print(data.columns)\n",
        "\n",
        "print(data)"
      ],
      "metadata": {
        "colab": {
          "base_uri": "https://localhost:8080/"
        },
        "id": "8EGBwTxDmzff",
        "outputId": "983a08ac-b25d-4df3-bd57-c92e5c179055"
      },
      "execution_count": 21,
      "outputs": [
        {
          "output_type": "stream",
          "name": "stdout",
          "text": [
            "Index(['step', 'type', 'amount', 'nameOrig', 'oldbalanceOrg', 'newbalanceOrig',\n",
            "       'nameDest', 'oldbalanceDest', 'newbalanceDest', 'isFraud',\n",
            "       'isFlaggedFraud'],\n",
            "      dtype='object')\n",
            "       step      type     amount     nameOrig  oldbalanceOrg  newbalanceOrig  \\\n",
            "0         1   PAYMENT    9839.64  C1231006815       170136.0       160296.36   \n",
            "1         1   PAYMENT    1864.28  C1666544295        21249.0        19384.72   \n",
            "2         1  TRANSFER     181.00  C1305486145          181.0            0.00   \n",
            "3         1  CASH_OUT     181.00   C840083671          181.0            0.00   \n",
            "4         1   PAYMENT   11668.14  C2048537720        41554.0        29885.86   \n",
            "...     ...       ...        ...          ...            ...             ...   \n",
            "28291     8  CASH_OUT   78635.42  C1046801601            0.0            0.00   \n",
            "28292     8  CASH_OUT    7270.37   C457003860            0.0            0.00   \n",
            "28293     8  CASH_OUT  113043.31  C1845952463            0.0            0.00   \n",
            "28294     8  CASH_OUT   89346.62   C140193335            0.0            0.00   \n",
            "28295     8  CASH_OUT  138651.85   C297851161            0.0            0.00   \n",
            "\n",
            "          nameDest  oldbalanceDest  newbalanceDest  isFraud  isFlaggedFraud  \n",
            "0      M1979787155            0.00            0.00      0.0             0.0  \n",
            "1      M2044282225            0.00            0.00      0.0             0.0  \n",
            "2       C553264065            0.00            0.00      1.0             0.0  \n",
            "3        C38997010        21182.00            0.00      1.0             0.0  \n",
            "4      M1230701703            0.00            0.00      0.0             0.0  \n",
            "...            ...             ...             ...      ...             ...  \n",
            "28291   C766681183     17277864.84     17356500.26      0.0             0.0  \n",
            "28292   C219416103      1523685.68      1530956.05      0.0             0.0  \n",
            "28293   C483817115     10085462.79     10014348.15      0.0             0.0  \n",
            "28294  C1326121635       112673.41       202020.02      0.0             0.0  \n",
            "28295  C1034382650       142758.39       281410.24      0.0             0.0  \n",
            "\n",
            "[28296 rows x 11 columns]\n"
          ]
        }
      ]
    },
    {
      "cell_type": "code",
      "source": [
        "# Select relevant features and target variable\n",
        "X = data[['step', 'type', 'amount', 'oldbalanceOrg', 'newbalanceOrig', 'oldbalanceDest', 'newbalanceDest']]\n",
        "y = data['isFraud']"
      ],
      "metadata": {
        "id": "Mdl7G-izm1vk"
      },
      "execution_count": null,
      "outputs": []
    },
    {
      "cell_type": "code",
      "source": [
        "X = pd.get_dummies(data=X, columns=['type'], drop_first=True)"
      ],
      "metadata": {
        "id": "VLdMdt3zm4RZ"
      },
      "execution_count": null,
      "outputs": []
    },
    {
      "cell_type": "code",
      "source": [
        "# Split the dataset into training and testing sets\n",
        "X_train, X_test, y_train, y_test = train_test_split(X, y, test_size=0.2, random_state=42)"
      ],
      "metadata": {
        "id": "N4i0mbzOm7GB"
      },
      "execution_count": null,
      "outputs": []
    },
    {
      "cell_type": "code",
      "source": [
        "# Implement and train the Decision Tree Classifier\n",
        "dt_classifier = DecisionTreeClassifier()\n",
        "dt_classifier.fit(X_train, y_train)"
      ],
      "metadata": {
        "id": "RTP8itF3m-QZ"
      },
      "execution_count": null,
      "outputs": []
    },
    {
      "cell_type": "code",
      "source": [
        "\n",
        "# Predict with Decision Tree Classifier\n",
        "dt_predictions = dt_classifier.predict(X_test)"
      ],
      "metadata": {
        "id": "miD8o5xvnBGT"
      },
      "execution_count": null,
      "outputs": []
    },
    {
      "cell_type": "code",
      "source": [
        "\n",
        "\n",
        "# Evaluate Decision Tree Classifier performance\n",
        "dt_accuracy = accuracy_score(y_test, dt_predictions)\n",
        "dt_precision = precision_score(y_test, dt_predictions)\n",
        "dt_recall = recall_score(y_test, dt_predictions)\n",
        "dt_f1 = f1_score(y_test, dt_predictions)\n",
        "\n"
      ],
      "metadata": {
        "id": "2dM-l9VenElg"
      },
      "execution_count": null,
      "outputs": []
    },
    {
      "cell_type": "code",
      "source": [
        "# Implement and train the Naïve Bayes Classifier (Gaussian NB for continuous data)\n",
        "nb_classifier = GaussianNB()\n",
        "nb_classifier.fit(X_train, y_train)"
      ],
      "metadata": {
        "id": "qnRVPbiTnIOB"
      },
      "execution_count": null,
      "outputs": []
    },
    {
      "cell_type": "code",
      "source": [
        "# Predict with Naïve Bayes Classifier\n",
        "nb_predictions = nb_classifier.predict(X_test)"
      ],
      "metadata": {
        "id": "joXe7QZonLb0"
      },
      "execution_count": null,
      "outputs": []
    },
    {
      "cell_type": "code",
      "source": [
        "\n",
        "# Evaluate Naïve Bayes Classifier performance\n",
        "nb_accuracy = accuracy_score(y_test, nb_predictions)\n",
        "nb_precision = precision_score(y_test, nb_predictions)\n",
        "nb_recall = recall_score(y_test, nb_predictions)\n",
        "nb_f1 = f1_score(y_test, nb_predictions)"
      ],
      "metadata": {
        "id": "xRImeRYqnPMF"
      },
      "execution_count": null,
      "outputs": []
    },
    {
      "cell_type": "code",
      "source": [
        "\n",
        "# Compare the performance of Decision Tree\n",
        "print(\"Decision Tree Classifier:\")\n",
        "print(f\"Accuracy: {dt_accuracy:.2f}\")\n",
        "print(f\"Precision: {dt_precision:.2f}\")\n",
        "print(f\"Recall: {dt_recall:.2f}\")\n",
        "print(f\"F1 Score: {dt_f1:.2f}\")"
      ],
      "metadata": {
        "id": "AX7ET-hGnQj5"
      },
      "execution_count": null,
      "outputs": []
    },
    {
      "cell_type": "code",
      "source": [
        "\n",
        "# Compare the performance of Naïve Bayes\n",
        "print(\"\\nNaïve Bayes Classifier:\")\n",
        "print(f\"Accuracy: {nb_accuracy:.2f}\")\n",
        "print(f\"Precision: {nb_precision:.2f}\")\n",
        "print(f\"Recall: {nb_recall:.2f}\")\n",
        "print(f\"F1 Score: {nb_f1:.2f}\")"
      ],
      "metadata": {
        "id": "POC6UpxtnTV8"
      },
      "execution_count": null,
      "outputs": []
    },
    {
      "cell_type": "code",
      "source": [],
      "metadata": {
        "id": "LQGLuWTEnYAq"
      },
      "execution_count": null,
      "outputs": []
    }
  ]
}