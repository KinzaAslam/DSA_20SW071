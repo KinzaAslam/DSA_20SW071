{
  "nbformat": 4,
  "nbformat_minor": 0,
  "metadata": {
    "colab": {
      "provenance": [],
      "authorship_tag": "ABX9TyMmzCHWvYo9W9gpdc8IDzxi",
      "include_colab_link": true
    },
    "kernelspec": {
      "name": "python3",
      "display_name": "Python 3"
    },
    "language_info": {
      "name": "python"
    }
  },
  "cells": [
    {
      "cell_type": "markdown",
      "metadata": {
        "id": "view-in-github",
        "colab_type": "text"
      },
      "source": [
        "<a href=\"https://colab.research.google.com/github/KinzaAslam/DSA_20SW071/blob/main/20sw071_PythonBasic.ipynb\" target=\"_parent\"><img src=\"https://colab.research.google.com/assets/colab-badge.svg\" alt=\"Open In Colab\"/></a>"
      ]
    },
    {
      "cell_type": "code",
      "execution_count": 1,
      "metadata": {
        "colab": {
          "base_uri": "https://localhost:8080/"
        },
        "id": "VkBD9nMbi0a8",
        "outputId": "bd1c5099-9fe4-4449-e952-0020c64abdd8"
      },
      "outputs": [
        {
          "output_type": "stream",
          "name": "stdout",
          "text": [
            "Integer: 10\n",
            "Float: 3.14\n",
            "String: Hello, World!\n",
            "Boolean: True\n"
          ]
        }
      ],
      "source": [
        "#Basic Types\n",
        "\n",
        "# Integer\n",
        "my_integer = 10\n",
        "print(\"Integer:\", my_integer)\n",
        "\n",
        "# Float\n",
        "my_float = 3.14\n",
        "print(\"Float:\", my_float)\n",
        "\n",
        "# String\n",
        "my_string = \"Hello, World!\"\n",
        "print(\"String:\", my_string)\n",
        "\n",
        "# Boolean\n",
        "my_boolean = True\n",
        "print(\"Boolean:\", my_boolean)"
      ]
    },
    {
      "cell_type": "code",
      "source": [
        "#Container Types\n",
        "\n",
        "# List\n",
        "my_list = [1, 2, 3, 4, 5]\n",
        "print(\"List:\", my_list)\n",
        "\n",
        "# Tuple\n",
        "my_tuple = (1, 2, 3, 4, 5)\n",
        "print(\"Tuple:\", my_tuple)\n",
        "\n",
        "# Dictionary\n",
        "my_dictionary = {\"name\": \"Kinza\", \"age\": 20, \"city\": \"Jamshoro\"}\n",
        "print(\"Dictionary:\", my_dictionary)\n",
        "\n",
        "# Set\n",
        "my_set = {1, 2, 3, 4, 5}\n",
        "print(\"Set:\", my_set)"
      ],
      "metadata": {
        "colab": {
          "base_uri": "https://localhost:8080/"
        },
        "id": "TpMKZl95i7hQ",
        "outputId": "9f4f0f75-2289-45e8-8ee1-ec533f12e83d"
      },
      "execution_count": 3,
      "outputs": [
        {
          "output_type": "stream",
          "name": "stdout",
          "text": [
            "List: [1, 2, 3, 4, 5]\n",
            "Tuple: (1, 2, 3, 4, 5)\n",
            "Dictionary: {'name': 'Kinza', 'age': 20, 'city': 'Jamshoro'}\n",
            "Set: {1, 2, 3, 4, 5}\n"
          ]
        }
      ]
    },
    {
      "cell_type": "code",
      "source": [
        "#Identifiers\n",
        "\n",
        "#identifier names\n",
        "my_variable = 10\n",
        "my_string = \"Hello\"\n",
        "my_list = [1, 2, 3]\n",
        "\n",
        "# Printing the identifier names\n",
        "print(\"Valid identifier names:\")\n",
        "print(\"my_variable:\", my_variable)\n",
        "print(\"my_string:\", my_string)\n",
        "print(\"my_list:\", my_list)\n"
      ],
      "metadata": {
        "colab": {
          "base_uri": "https://localhost:8080/"
        },
        "id": "fYymj1vSjDiT",
        "outputId": "ef2a1b19-f245-4ece-f17d-de76ef7901d7"
      },
      "execution_count": 4,
      "outputs": [
        {
          "output_type": "stream",
          "name": "stdout",
          "text": [
            "Valid identifier names:\n",
            "my_variable: 10\n",
            "my_string: Hello\n",
            "my_list: [1, 2, 3]\n"
          ]
        }
      ]
    },
    {
      "cell_type": "code",
      "source": [
        "#Variables Assignment\n",
        "\n",
        "x = 5\n",
        "y = 10\n",
        "z = x + y\n",
        "print(\"x:\", x)\n",
        "print(\"y:\", y)\n",
        "print(\"z:\", z)"
      ],
      "metadata": {
        "colab": {
          "base_uri": "https://localhost:8080/"
        },
        "id": "pfXf86bKjHo-",
        "outputId": "44b48736-a4ad-4aef-cb78-85fb4c82074e"
      },
      "execution_count": 5,
      "outputs": [
        {
          "output_type": "stream",
          "name": "stdout",
          "text": [
            "x: 5\n",
            "y: 10\n",
            "z: 15\n"
          ]
        }
      ]
    },
    {
      "cell_type": "code",
      "source": [
        "#Conversions\n",
        "\n",
        "# Integer to float conversion\n",
        "my_integer = 10\n",
        "my_float = float(my_integer)\n",
        "print(\"Integer to Float:\", my_float)\n",
        "\n",
        "# Float to integer conversion\n",
        "my_float = 3.14\n",
        "my_integer = int(my_float)\n",
        "print(\"Float to Integer:\", my_integer)\n",
        "\n",
        "# Integer to string conversion\n",
        "my_integer = 5\n",
        "my_string = str(my_integer)\n",
        "print(\"Integer to String:\", my_string)\n",
        "\n",
        "# Float to string conversion\n",
        "my_float = 3.14\n",
        "my_string = str(my_float)\n",
        "print(\"Float to String:\", my_string)\n",
        "\n",
        "# String to integer conversion\n",
        "my_string = \"10\"\n",
        "my_integer = int(my_string)\n",
        "print(\"String to Integer:\", my_integer)\n",
        "\n",
        "# String to float conversion\n",
        "my_string = \"3.14\"\n",
        "my_float = float(my_string)\n",
        "print(\"String to Float:\", my_float)"
      ],
      "metadata": {
        "colab": {
          "base_uri": "https://localhost:8080/"
        },
        "id": "xiquBlKCjNK8",
        "outputId": "42e2396c-5647-429e-eb51-aaa9e345aab9"
      },
      "execution_count": 6,
      "outputs": [
        {
          "output_type": "stream",
          "name": "stdout",
          "text": [
            "Integer to Float: 10.0\n",
            "Float to Integer: 3\n",
            "Integer to String: 5\n",
            "Float to String: 3.14\n",
            "String to Integer: 10\n",
            "String to Float: 3.14\n"
          ]
        }
      ]
    },
    {
      "cell_type": "code",
      "source": [
        "\n",
        "#Sequence Containers Indexing\n",
        "\n",
        "# List indexing\n",
        "my_list = [1, 2, 3, 4, 5]\n",
        "print(\"List:\", my_list)\n",
        "print(\"List indexing:\")\n",
        "print(\"Element at index 0:\", my_list[0])\n",
        "print(\"Element at index 2:\", my_list[2])\n",
        "print(\"Element at index -1:\", my_list[-1])\n",
        "\n",
        "# Tuple indexing\n",
        "my_tuple = (6, 7, 8, 9, 10)\n",
        "print(\"\\nTuple:\", my_tuple)\n",
        "print(\"Tuple indexing:\")\n",
        "print(\"Element at index 0:\", my_tuple[0])\n",
        "print(\"Element at index 2:\", my_tuple[2])\n",
        "print(\"Element at index -1:\", my_tuple[-1])\n",
        "\n",
        "# String indexing\n",
        "my_string = \"Hello, World!\"\n",
        "print(\"\\nString:\", my_string)\n",
        "print(\"String indexing:\")\n",
        "print(\"Character at index 0:\", my_string[0])\n",
        "print(\"Character at index 4:\", my_string[4])\n",
        "print(\"Character at index -1:\", my_string[-1])"
      ],
      "metadata": {
        "colab": {
          "base_uri": "https://localhost:8080/"
        },
        "id": "ZStqY6SJjRRn",
        "outputId": "576f11aa-f259-47f1-fbcc-9d6e4dc56d31"
      },
      "execution_count": 7,
      "outputs": [
        {
          "output_type": "stream",
          "name": "stdout",
          "text": [
            "List: [1, 2, 3, 4, 5]\n",
            "List indexing:\n",
            "Element at index 0: 1\n",
            "Element at index 2: 3\n",
            "Element at index -1: 5\n",
            "\n",
            "Tuple: (6, 7, 8, 9, 10)\n",
            "Tuple indexing:\n",
            "Element at index 0: 6\n",
            "Element at index 2: 8\n",
            "Element at index -1: 10\n",
            "\n",
            "String: Hello, World!\n",
            "String indexing:\n",
            "Character at index 0: H\n",
            "Character at index 4: o\n",
            "Character at index -1: !\n"
          ]
        }
      ]
    },
    {
      "cell_type": "code",
      "source": [
        "#Boolean Logic\n",
        "\n",
        "# Boolean variables\n",
        "a = True\n",
        "b = False\n",
        "\n",
        "# Boolean AND\n",
        "result_and = a and b\n",
        "print(\"a AND b:\", result_and)\n",
        "\n",
        "# Boolean OR\n",
        "result_or = a or b\n",
        "print(\"a OR b:\", result_or)\n",
        "\n",
        "# Boolean NOT\n",
        "result_not_a = not a\n",
        "result_not_b = not b\n",
        "print(\"NOT a:\", result_not_a)\n",
        "print(\"NOT b:\", result_not_b)\n",
        "\n",
        "# Boolean XOR\n",
        "result_xor = a ^ b\n",
        "print(\"a XOR b:\", result_xor)\n",
        "\n",
        "# Comparison operators\n",
        "x = 5\n",
        "y = 10\n",
        "greater_than = x > y\n",
        "less_than = x < y\n",
        "equal_to = x == y\n",
        "not_equal_to = x != y\n",
        "print(\"x > y:\", greater_than)\n",
        "print(\"x < y:\", less_than)\n",
        "print(\"x == y:\", equal_to)\n",
        "print(\"x != y:\", not_equal_to)\n",
        ""
      ],
      "metadata": {
        "colab": {
          "base_uri": "https://localhost:8080/"
        },
        "id": "PR7Xbd6ZjWnB",
        "outputId": "e9b35ba5-4c75-42e1-9255-50bdac16b9ff"
      },
      "execution_count": 8,
      "outputs": [
        {
          "output_type": "stream",
          "name": "stdout",
          "text": [
            "a AND b: False\n",
            "a OR b: True\n",
            "NOT a: False\n",
            "NOT b: True\n",
            "a XOR b: True\n",
            "x > y: False\n",
            "x < y: True\n",
            "x == y: False\n",
            "x != y: True\n"
          ]
        }
      ]
    },
    {
      "cell_type": "code",
      "source": [
        "#Modules/Names Import OR Maths\n",
        "\n",
        "import math\n",
        "\n",
        "# Square root\n",
        "num = 16\n",
        "sqrt = math.sqrt(num)\n",
        "print(\"Square root of\", num, \"is\", sqrt)"
      ],
      "metadata": {
        "colab": {
          "base_uri": "https://localhost:8080/"
        },
        "id": "IhOKk7CLjaMX",
        "outputId": "a1d50a52-69d6-41d7-e054-a8b5d8c842d8"
      },
      "execution_count": 9,
      "outputs": [
        {
          "output_type": "stream",
          "name": "stdout",
          "text": [
            "Square root of 16 is 4.0\n"
          ]
        }
      ]
    },
    {
      "cell_type": "code",
      "source": [
        "\n",
        "#Exception On Errors\n",
        "\n",
        "# Exception handling example\n",
        "try:\n",
        "    x = 10\n",
        "    y = 0\n",
        "    result = x / y\n",
        "    print(\"Result:\", result)\n",
        "except ZeroDivisionError:\n",
        "    print(\"Error: Division by zero!\")\n",
        "except Exception as e:\n",
        "    print(\"An error occurred:\", str(e))\n",
        ""
      ],
      "metadata": {
        "colab": {
          "base_uri": "https://localhost:8080/"
        },
        "id": "5hn8Zwmmjd_0",
        "outputId": "4125a731-289f-4246-8fc9-04024492727f"
      },
      "execution_count": 10,
      "outputs": [
        {
          "output_type": "stream",
          "name": "stdout",
          "text": [
            "Error: Division by zero!\n"
          ]
        }
      ]
    },
    {
      "cell_type": "code",
      "source": [
        "#Conditional Loop Statement\n",
        "\n",
        "# While loop statement block\n",
        "counter = 0\n",
        "print(\"\\nCounting:\")\n",
        "while counter < 5:\n",
        "    print(counter)\n",
        "    counter += 1\n",
        "print(\"End of the while loop\")"
      ],
      "metadata": {
        "colab": {
          "base_uri": "https://localhost:8080/"
        },
        "id": "mPYy9Iuoji6g",
        "outputId": "0df648c8-f7c3-40c5-cb2f-dfd57f50570f"
      },
      "execution_count": 11,
      "outputs": [
        {
          "output_type": "stream",
          "name": "stdout",
          "text": [
            "\n",
            "Counting:\n",
            "0\n",
            "1\n",
            "2\n",
            "3\n",
            "4\n",
            "End of the while loop\n"
          ]
        }
      ]
    }
  ]
}