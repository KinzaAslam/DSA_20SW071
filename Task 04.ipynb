{
  "nbformat": 4,
  "nbformat_minor": 0,
  "metadata": {
    "colab": {
      "provenance": [],
      "authorship_tag": "ABX9TyOp+Jn3MiD1UfQtFQGaFayg",
      "include_colab_link": true
    },
    "kernelspec": {
      "name": "python3",
      "display_name": "Python 3"
    },
    "language_info": {
      "name": "python"
    }
  },
  "cells": [
    {
      "cell_type": "markdown",
      "metadata": {
        "id": "view-in-github",
        "colab_type": "text"
      },
      "source": [
        "<a href=\"https://colab.research.google.com/github/KinzaAslam/DSA_20SW071/blob/main/Task%2004.ipynb\" target=\"_parent\"><img src=\"https://colab.research.google.com/assets/colab-badge.svg\" alt=\"Open In Colab\"/></a>"
      ]
    },
    {
      "cell_type": "code",
      "execution_count": 1,
      "metadata": {
        "colab": {
          "base_uri": "https://localhost:8080/"
        },
        "id": "SFvDQnivKtn8",
        "outputId": "49052062-ca94-4960-fbde-72a3d7d18cb1"
      },
      "outputs": [
        {
          "output_type": "stream",
          "name": "stdout",
          "text": [
            "[[ 2  4  6  8]\n",
            " [10 12 14 16]\n",
            " [18 20 22 24]\n",
            " [26 28 30 32]]\n"
          ]
        }
      ],
      "source": [
        "import numpy as np\n",
        "X = np.arange(2, 34, 2).reshape(4, 4)\n",
        "print(X)"
      ]
    },
    {
      "cell_type": "code",
      "source": [
        "import numpy as np\n",
        "\n",
        "X = np.arange(1, 26).reshape(5, 5)\n",
        "Y = X[X % 2 != 0]\n",
        "\n",
        "print(X)\n",
        "print(Y)\n"
      ],
      "metadata": {
        "colab": {
          "base_uri": "https://localhost:8080/"
        },
        "id": "q3w_v4JGL62H",
        "outputId": "a9c5f5ce-b578-4082-815e-90a620cd7cd6"
      },
      "execution_count": 2,
      "outputs": [
        {
          "output_type": "stream",
          "name": "stdout",
          "text": [
            "[[ 1  2  3  4  5]\n",
            " [ 6  7  8  9 10]\n",
            " [11 12 13 14 15]\n",
            " [16 17 18 19 20]\n",
            " [21 22 23 24 25]]\n",
            "[ 1  3  5  7  9 11 13 15 17 19 21 23 25]\n"
          ]
        }
      ]
    },
    {
      "cell_type": "code",
      "source": [
        "#Task3\n",
        "\n",
        "import numpy as np\n",
        "X = np.arange(1, 5).reshape(4, 1) * np.ones((1, 4))\n",
        "\n",
        "print(X)"
      ],
      "metadata": {
        "colab": {
          "base_uri": "https://localhost:8080/"
        },
        "id": "DMONr0VIMAu1",
        "outputId": "31698dcc-c3f3-459f-8517-20d3d8db71f2"
      },
      "execution_count": 3,
      "outputs": [
        {
          "output_type": "stream",
          "name": "stdout",
          "text": [
            "[[1. 1. 1. 1.]\n",
            " [2. 2. 2. 2.]\n",
            " [3. 3. 3. 3.]\n",
            " [4. 4. 4. 4.]]\n"
          ]
        }
      ]
    },
    {
      "cell_type": "code",
      "source": [
        "from google.colab import drive\n",
        "drive.mount('/NumPy.ipnyb')\n",
        "\n",
        "import numpy as np\n",
        "\n",
        "# Create a 1000x20 ndarray with random integers in the range [0, 5001)\n",
        "X = np.random.randint(0, 5001, size=(1000, 20))\n",
        "# Print the shape of X\n",
        "print(X.shape)\n",
        "\n",
        "# Calculate the average of the values in each column of X\n",
        "ave_cols = np.mean(X, axis=0)\n",
        "\n",
        "# Calculate the standard deviation of the values in each column of X\n",
        "std_cols = np.std(X, axis=0)\n",
        "\n",
        "\n",
        "print(\"Shape of ave_cols:\", ave_cols.shape)\n",
        "print(\"Shape of std_cols:\", std_cols.shape)\n",
        "\n",
        "# Mean normalize X\n",
        "X_norm = (X - ave_cols) / std_cols\n",
        "\n",
        "print(\"Mean normalized X:\")\n",
        "print(X_norm)\n",
        "\n",
        "# Print the average of all the values of X_norm\n",
        "ave_all_values = np.mean(X_norm)\n",
        "print(\"Average of all values in X_norm:\", ave_all_values)\n",
        "\n",
        "# Print the average of the minimum value in each column of X_norm\n",
        "ave_min_values = np.mean(np.min(X_norm, axis=0))\n",
        "print(\"Average of minimum values in each column of X_norm:\", ave_min_values)\n",
        "\n",
        "# Print the average of the maximum value in each column of X_norm\n",
        "ave_max_values = np.mean(np.max(X_norm, axis=0))\n",
        "print(\"Average of maximum values in each column of X_norm:\", ave_max_values)\n",
        "\n",
        "# We create a random permutation of integers 0 to 4\n",
        "np.random.permutation(5)\n",
        "\n",
        "# Create a random permutation of row indices of X_norm\n",
        "row_indices = np.random.permutation(X_norm.shape[0])\n",
        "\n",
        "print(\"Random permutation of row indices:\", row_indices)\n",
        "\n",
        "\n",
        "# Define the ratios for training, cross-validation, and test sets\n",
        "train_ratio = 0.6\n",
        "cross_val_ratio = 0.2\n",
        "test_ratio = 0.2\n",
        "\n",
        "# Calculate the sizes of each set based on the ratios\n",
        "num_rows = X_norm.shape[0]\n",
        "num_train = int(train_ratio * num_rows)\n",
        "num_cross_val = int(cross_val_ratio * num_rows)\n",
        "num_test = int(test_ratio * num_rows)\n",
        "\n",
        "# Use row_indices to split the data into sets\n",
        "X_train = X_norm[row_indices[:num_train]]\n",
        "X_crossVal = X_norm[row_indices[num_train:num_train + num_cross_val]]\n",
        "X_test = X_norm[row_indices[num_train + num_cross_val:]]\n",
        "\n",
        "print(\"X_train shape:\", X_train.shape)\n",
        "print(\"X_crossVal shape:\", X_crossVal.shape)\n",
        "print(\"X_test shape:\", X_test.shape)\n"
      ],
      "metadata": {
        "colab": {
          "base_uri": "https://localhost:8080/"
        },
        "id": "4-mF5QU-OKp8",
        "outputId": "bdaf057d-d19b-4d98-c46b-e42193402711"
      },
      "execution_count": 9,
      "outputs": [
        {
          "output_type": "stream",
          "name": "stdout",
          "text": [
            "Drive already mounted at /NumPy.ipnyb; to attempt to forcibly remount, call drive.mount(\"/NumPy.ipnyb\", force_remount=True).\n",
            "(1000, 20)\n",
            "Shape of ave_cols: (20,)\n",
            "Shape of std_cols: (20,)\n",
            "Mean normalized X:\n",
            "[[-1.64877706  0.46253582  1.24358206 ... -1.24157516  0.08921133\n",
            "   0.9787313 ]\n",
            " [ 0.86460155 -1.5237962   0.60341628 ... -0.76828811  0.20283073\n",
            "   1.0879192 ]\n",
            " [ 1.21941523  1.26132701  1.00892322 ... -0.1593808  -0.67702688\n",
            "   1.2489368 ]\n",
            " ...\n",
            " [ 1.53350127  0.59921634 -0.37158433 ...  0.3422758  -1.72177119\n",
            "  -1.04884652]\n",
            " [-1.28706039 -1.05949453 -1.24709508 ...  0.6889378   0.41205672\n",
            "  -0.03643973]\n",
            " [ 0.03969426 -0.14668842  0.4161009  ... -1.2595656   1.55864281\n",
            "   1.5578418 ]]\n",
            "Average of all values in X_norm: 7.460698725481051e-18\n",
            "Average of minimum values in each column of X_norm: -1.718286739846383\n",
            "Average of maximum values in each column of X_norm: 1.722732598362126\n",
            "Random permutation of row indices: [649 808 441 497 868 779 991 973 451 377 555 484 402 206 160 914 984 755\n",
            " 569 390 475 400 720 466 736 553 824 881 149 202 292 164 902 282 440 908\n",
            " 425 906 248 560  10 836 627 855 913 254 338 342 141 147 876  58 357 860\n",
            " 359 952 828 544 106  24 812 219 715 265 827 161 712 584 599 924 328 740\n",
            "  11 790 861 519 829 774 221 580 144 977 220 138 321 653 472 174 271  97\n",
            " 192 205 858 411 615 237 137 532 645 672 227 586 182 680 127 571 894 467\n",
            " 396 951  29 262 352 707 650 378 310 487 619 439 442 677   4  32 568  12\n",
            " 177 957 628 795 752 936 960 158 460 618 758 473 118 301 372 418 139 540\n",
            "  64   5 485 395 481 335 433 244 889 287 892 582 905 630 256 938 125 457\n",
            " 196 780 782 216 852 156  93 988 918 193 676 117 561 336 950 104 449 399\n",
            " 515 187 224 671 131 269 669 393 524 985 154 123 208  27 482 367 491 488\n",
            " 415 330  28 376 469 266 200 236 819 323 194 885 890 775  87 365 500 700\n",
            " 325 251 686 761 299 655  38 136 856 446 483 579 768 932  95 405 371  35\n",
            " 975 833 521 928 277 233 963 910 128 238 423 541   1 839 539 523  23 611\n",
            " 345 143 663 318  82 368 110 831 100 793  52 722 635 501 493 550 476 215\n",
            " 311 218 209 489 407 947 152 733 674 863  86 803 688  25  44 167 607 264\n",
            " 581 986 735 428 705 875 681 605 783 370 701 570 239  18 129 445 588 820\n",
            " 387  59 759 453 638  77 103  51 797 337 471  16 927 974 862 606 713 257\n",
            " 964 683 709 379 640 604 617 169 173 597 915 854 456 420 278 972 944 306\n",
            " 551 234 339   2 893 757 636 987 786 142 621 739 226 823 341 886 517 620\n",
            " 546 355 614 331 602 916 821 665 273 867 996 520  69 880 119 939 718 531\n",
            "  43  49 243  46 670 353 666  84 245  60 847 577 526 175 682  66 738  39\n",
            " 762 403 725 776 204 295  20  80 979 113 704 629 358 741 690 397 159 549\n",
            " 807 529 696 884 794 340 692 714 728 543 567 750 922 242 186 685 753 502\n",
            " 347 385 919 955 559 468 980 743 616 274 887 694 115 268 108 240 363 623\n",
            " 587 633 631 102  88 509 276 343 813 613 841 658 326 263 746 510 246 948\n",
            " 646 994 170 410 744 930 654 563 901 562 165 717 745 496 148 346 201 800\n",
            " 327 888 527 730 214 748 637 463 210  92 724 842 285 191 999 391 765 610\n",
            " 132 464 470 595 898 600 535 212 297 272 530 230  74 870 814 153 249 225\n",
            " 857   9 556 188 929 454 349  26 989 904 903 303 933  73 480 652 897 578\n",
            " 322 593 983 591 993 773 687 329 548 438 872 508 643 598 518 198 305 504\n",
            " 417 792 982 373 361   8 360  40 430 644 981 788 583 695 547 698 413  42\n",
            " 380 656 723 494 809  15 414  75 789 279 601 316 958  21 381 896 626 437\n",
            " 804 967   6 971 879 710 634 319 195 659 313 199 288 706 953 105 537 203\n",
            "  85 589 382  41 315 959 448 479 693 427 969 421 673 334 935 386 375 564\n",
            " 815 801 708 691 307 632 409 667 926 217 163 941 189 309 882 284  22 552\n",
            " 461 843  67 492 533 651 185  79 231 258 513  78 647 364 558 608 806 416\n",
            " 478 116 462 432 711  45 392 962 826 697 961 675 731 818 270 207  65 398\n",
            " 183 603 495 747 260  37 625 362 612 849 429 594 408  63 572 642 486 211\n",
            " 937 811 769  48 992 168 764 830 178 114 281 573 253 505  83 190 777 931\n",
            " 883 968 970 259 965 859 290 770 778 609 719 112 176 507 566 866 734  94\n",
            " 978 261 565  13 431 995 639 348 954 912 312  30 689 135 684 155 252 703\n",
            " 180 805 267 122 661 624 934 374 181 997 241 576 732 664 516 213  89 754\n",
            " 592 840 121 925 742 877 435 590 458 791 145 126 911 878 465  33 356 109\n",
            " 162 314 853 275 534 798 781  61 443 525 283 956 404 848 477 796 434 596\n",
            " 940 832 622  57 424 134 545 157 554 787 383 401 920 844 351 528 865 785\n",
            " 354  68  19 542 388  54 332 350 146 585 304 232  71 228 120 419 751 298\n",
            " 412 450  70 943 294 822 444  62 247 308 900 763 784 749 942 422 662  34\n",
            " 575 511 179  91 726  76 406 837 729 657 452 223 727 222 976 426 512 130\n",
            " 990  98 171 699 899 799 810 574 447 324 538 300 302 557 834 679   7 846\n",
            " 455 111 850  50   0 197 317 166 250 394 873 838 949  56 514 766  14   3\n",
            " 286  53 506 874 869 384 802 772 255 851  31 737 923 151 344 825 184 474\n",
            " 648 816 917 320  47 293 229 389 498 668 124 946  17  72 835 107 172 499\n",
            " 296  99 945 289 522 907 864 895 998 436 280 101 760 291 369 678 641 490\n",
            " 921 150  96 966 140  81 660 756 909 845  55 503 366 771 767 871  90 891\n",
            " 817 721 333 133 716 536 702 235  36 459]\n",
            "X_train shape: (600, 20)\n",
            "X_crossVal shape: (200, 20)\n",
            "X_test shape: (200, 20)\n"
          ]
        }
      ]
    },
    {
      "cell_type": "markdown",
      "source": [],
      "metadata": {
        "id": "v10CrDxML4Ny"
      }
    }
  ]
}