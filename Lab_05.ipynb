{
  "nbformat": 4,
  "nbformat_minor": 0,
  "metadata": {
    "colab": {
      "provenance": [],
      "authorship_tag": "ABX9TyOjkVF8KhXUDE+rXJY3wUte",
      "include_colab_link": true
    },
    "kernelspec": {
      "name": "python3",
      "display_name": "Python 3"
    },
    "language_info": {
      "name": "python"
    }
  },
  "cells": [
    {
      "cell_type": "markdown",
      "metadata": {
        "id": "view-in-github",
        "colab_type": "text"
      },
      "source": [
        "<a href=\"https://colab.research.google.com/github/KinzaAslam/DSA_20SW071/blob/main/Lab_05.ipynb\" target=\"_parent\"><img src=\"https://colab.research.google.com/assets/colab-badge.svg\" alt=\"Open In Colab\"/></a>"
      ]
    },
    {
      "cell_type": "code",
      "execution_count": 1,
      "metadata": {
        "colab": {
          "base_uri": "https://localhost:8080/"
        },
        "id": "vzgcGWygB3uU",
        "outputId": "a36b9b21-fca9-4350-baa0-c3ff168d7818"
      },
      "outputs": [
        {
          "output_type": "stream",
          "name": "stdout",
          "text": [
            "Distance from Sun:\n",
            "Earth       149.6\n",
            "Saturn     1433.5\n",
            "Mars        227.9\n",
            "Venus       108.2\n",
            "Jupiter     778.6\n",
            "dtype: float64\n",
            "\n",
            "Time for Sunlight to Reach (minutes):\n",
            "Earth       8.311111\n",
            "Saturn     79.638889\n",
            "Mars       12.661111\n",
            "Venus       6.011111\n",
            "Jupiter    43.255556\n",
            "dtype: float64\n",
            "\n",
            "Planets where Sunlight takes less than 40 minutes:\n",
            "Earth     8.311111\n",
            "Mars     12.661111\n",
            "Venus     6.011111\n",
            "dtype: float64\n"
          ]
        }
      ],
      "source": [
        "#Task 1\n",
        "import pandas as pd\n",
        "\n",
        "distance_from_sun = [149.6, 1433.5, 227.9, 108.2, 778.6]\n",
        "\n",
        "planets = ['Earth', 'Saturn', 'Mars', 'Venus', 'Jupiter']\n",
        "\n",
        "dist_planets = pd.Series(distance_from_sun, index=planets)\n",
        "\n",
        "speed_of_light = 18  # in 10^6 km/minute\n",
        "time_light = dist_planets / speed_of_light\n",
        "\n",
        "close_planets = time_light[time_light < 40]\n",
        "\n",
        "print(\"Distance from Sun:\")\n",
        "print(dist_planets)\n",
        "print(\"\\nTime for Sunlight to Reach (minutes):\")\n",
        "print(time_light)\n",
        "print(\"\\nPlanets where Sunlight takes less than 40 minutes:\")\n",
        "print(close_planets)\n"
      ]
    },
    {
      "cell_type": "code",
      "source": [
        "#Task 2\n",
        "\n",
        "import pandas as pd\n",
        "import numpy as np\n",
        "\n",
        "books = pd.Series(data = ['Great Expectations', 'Of Mice and Men', 'Romeo and Juliet', 'The Time Machine', 'Alice in Wonderland' ])\n",
        "authors = pd.Series(data = ['Charles Dickens', 'John Steinbeck', 'William Shakespeare', ' H. G. Wells', 'Lewis Carroll' ])\n",
        "\n",
        "user_1 = pd.Series(data = [3.2, np.nan ,2.5])\n",
        "user_2 = pd.Series(data = [5., 1.3, 4.0, 3.8])\n",
        "user_3 = pd.Series(data = [2.0, 2.3, np.nan, 4])\n",
        "user_4 = pd.Series(data = [4, 3.5, 4, 5, 4.2])\n",
        "\n",
        "dat = {\n",
        "    'Author': authors,\n",
        "    'Book Title': books,\n",
        "    'User 1': user_1,\n",
        "    'User 2': user_2,\n",
        "    'User 3': user_3,\n",
        "    'User 4': user_4\n",
        "}\n",
        "\n",
        "book_ratings = pd.DataFrame(dat)\n",
        "\n",
        "book_ratings.fillna(book_ratings.mean(numeric_only=True), inplace=True)\n",
        "\n",
        "best_rated = book_ratings[(book_ratings == 5).any(axis=1)]['Book Title'].values\n",
        "\n",
        "print(\"Book Ratings:\")\n",
        "print(book_ratings)\n",
        "print(\"\\nBest Rated Books:\")\n",
        "print(best_rated)"
      ],
      "metadata": {
        "colab": {
          "base_uri": "https://localhost:8080/"
        },
        "id": "LE2LabmvDMNp",
        "outputId": "0907f148-564d-40b6-c7eb-31eb55d2df11"
      },
      "execution_count": 3,
      "outputs": [
        {
          "output_type": "stream",
          "name": "stdout",
          "text": [
            "Book Ratings:\n",
            "                Author           Book Title  User 1  User 2    User 3  User 4\n",
            "0      Charles Dickens   Great Expectations    3.20   5.000  2.000000     4.0\n",
            "1       John Steinbeck      Of Mice and Men    2.85   1.300  2.300000     3.5\n",
            "2  William Shakespeare     Romeo and Juliet    2.50   4.000  2.766667     4.0\n",
            "3          H. G. Wells     The Time Machine    2.85   3.800  4.000000     5.0\n",
            "4        Lewis Carroll  Alice in Wonderland    2.85   3.525  2.766667     4.2\n",
            "\n",
            "Best Rated Books:\n",
            "['Great Expectations' 'The Time Machine']\n"
          ]
        }
      ]
    },
    {
      "cell_type": "code",
      "source": [
        "\n",
        "#Task 3\n",
        "\n",
        "# We import pandas into Python\n",
        "import pandas as pd\n",
        "\n",
        "# We read in a stock data data file into a data frame and see what it looks like\n",
        "df = pd.read_csv('./GOOG.csv')\n",
        "\n",
        "# We display the first 5 rows of the DataFrame\n",
        "df.head()\n",
        "\n",
        "# We load the Google stock data into a DataFrame\n",
        "google_stock = pd.read_csv('./GOOG.csv', usecols=['Date', 'Adj Close'], parse_dates=['Date'], index_col=['Date'])\n",
        "\n",
        "# We load the Apple stock data into a DataFrame\n",
        "apple_stock = pd.read_csv('AAPL.csv', usecols=['Date', 'Adj Close'], parse_dates=['Date'], index_col=['Date'])\n",
        "\n",
        "# We load the Amazon stock data into a DataFrame\n",
        "amazon_stock = pd.read_csv('AMZN.csv', usecols=['Date', 'Adj Close'], parse_dates=['Date'], index_col=['Date'])\n",
        "\n",
        "# We display the google_stock DataFrame\n",
        "google_stock.head()\n",
        "\n",
        "# We create calendar dates between '2000-01-01' and  '2016-12-31'\n",
        "dates = pd.date_range('2000-01-01', '2016-12-31')\n",
        "\n",
        "# We create and empty DataFrame that uses the above dates as indices\n",
        "all_stocks = pd.DataFrame(index = dates)\n",
        "\n",
        "# Change the Adj Close column label to Google\n",
        "google_stock = google_stock.rename(columns={'Adj Close': 'Google'})\n",
        "\n",
        "# Change the Adj Close column label to Apple\n",
        "apple_stock = apple_stock.rename(columns={'Adj Close': 'Apple'})\n",
        "\n",
        "# Change the Adj Close column label to Amazon\n",
        "amazon_stock = amazon_stock.rename(columns={'Adj Close': 'Amazon'})\n",
        "\n",
        "# We display the google_stock DataFrame\n",
        "google_stock.head()\n",
        "\n",
        "# We join the Google stock to all_stocks\n",
        "all_stocks = all_stocks.join(google_stock)\n",
        "\n",
        "# We join the Apple stock to all_stocks\n",
        "all_stocks = all_stocks.join(apple_stock)\n",
        "\n",
        "# We join the Amazon stock to all_stocks\n",
        "all_stocks = all_stocks.join(amazon_stock)\n",
        "\n",
        "# We display the google_stock DataFrame\n",
        "all_stocks.head()\n",
        "\n",
        "# Check if there are any NaN values in the all_stocks dataframe\n",
        "nan_check = all_stocks.isna().any()\n",
        "\n",
        "# Print columns with NaN values\n",
        "print(nan_check)\n",
        "\n",
        "# Remove any rows that contain NaN values\n",
        "all_stocks = all_stocks.dropna()\n",
        "\n",
        "# Print the average stock price for each stock\n",
        "print(\"Average Stock Price:\")\n",
        "print(all_stocks.mean())\n",
        "\n",
        "# Print the median stock price for each stock\n",
        "print(\"\\nMedian Stock Price:\")\n",
        "print(all_stocks.median())\n",
        "\n",
        "# Print the standard deviation of the stock price for each stock\n",
        "print(\"\\nStandard Deviation of Stock Price:\")\n",
        "print(all_stocks.std())\n",
        "\n",
        "# Print the correlation between stocks\n",
        "print(\"\\nCorrelation between Stocks:\")\n",
        "print(all_stocks.corr())\n",
        "\n",
        "# Compute the rolling mean using a 150-Day window for Google stock\n",
        "rollingMean = google_stock['Google'].rolling(window=150).mean()\n",
        "\n",
        "# Print the computed rolling mean\n",
        "print(rollingMean)\n",
        "\n",
        "# this allows plots to be rendered in the notebook\n",
        "%matplotlib inline\n",
        "\n",
        "# We import matplotlib into Python\n",
        "import matplotlib.pyplot as plt\n",
        "\n",
        "\n",
        "# We plot the Google stock data\n",
        "plt.plot(all_stocks['Google'])\n",
        "\n",
        "# We plot the rolling mean ontop of our Google stock data\n",
        "plt.plot(rollingMean)\n",
        "plt.legend(['Google Stock Price', 'Rolling Mean'])\n",
        "plt.show()\n",
        ""
      ],
      "metadata": {
        "colab": {
          "base_uri": "https://localhost:8080/",
          "height": 418
        },
        "id": "VOpZ5fzjDUdg",
        "outputId": "ab1b4fb6-92d5-4f25-970a-f7fa9e066fbc"
      },
      "execution_count": 4,
      "outputs": [
        {
          "output_type": "error",
          "ename": "FileNotFoundError",
          "evalue": "ignored",
          "traceback": [
            "\u001b[0;31m---------------------------------------------------------------------------\u001b[0m",
            "\u001b[0;31mFileNotFoundError\u001b[0m                         Traceback (most recent call last)",
            "\u001b[0;32m<ipython-input-4-19dd0cd2803f>\u001b[0m in \u001b[0;36m<cell line: 7>\u001b[0;34m()\u001b[0m\n\u001b[1;32m      5\u001b[0m \u001b[0;34m\u001b[0m\u001b[0m\n\u001b[1;32m      6\u001b[0m \u001b[0;31m# We read in a stock data data file into a data frame and see what it looks like\u001b[0m\u001b[0;34m\u001b[0m\u001b[0;34m\u001b[0m\u001b[0m\n\u001b[0;32m----> 7\u001b[0;31m \u001b[0mdf\u001b[0m \u001b[0;34m=\u001b[0m \u001b[0mpd\u001b[0m\u001b[0;34m.\u001b[0m\u001b[0mread_csv\u001b[0m\u001b[0;34m(\u001b[0m\u001b[0;34m'./GOOG.csv'\u001b[0m\u001b[0;34m)\u001b[0m\u001b[0;34m\u001b[0m\u001b[0;34m\u001b[0m\u001b[0m\n\u001b[0m\u001b[1;32m      8\u001b[0m \u001b[0;34m\u001b[0m\u001b[0m\n\u001b[1;32m      9\u001b[0m \u001b[0;31m# We display the first 5 rows of the DataFrame\u001b[0m\u001b[0;34m\u001b[0m\u001b[0;34m\u001b[0m\u001b[0m\n",
            "\u001b[0;32m/usr/local/lib/python3.10/dist-packages/pandas/util/_decorators.py\u001b[0m in \u001b[0;36mwrapper\u001b[0;34m(*args, **kwargs)\u001b[0m\n\u001b[1;32m    209\u001b[0m                 \u001b[0;32melse\u001b[0m\u001b[0;34m:\u001b[0m\u001b[0;34m\u001b[0m\u001b[0;34m\u001b[0m\u001b[0m\n\u001b[1;32m    210\u001b[0m                     \u001b[0mkwargs\u001b[0m\u001b[0;34m[\u001b[0m\u001b[0mnew_arg_name\u001b[0m\u001b[0;34m]\u001b[0m \u001b[0;34m=\u001b[0m \u001b[0mnew_arg_value\u001b[0m\u001b[0;34m\u001b[0m\u001b[0;34m\u001b[0m\u001b[0m\n\u001b[0;32m--> 211\u001b[0;31m             \u001b[0;32mreturn\u001b[0m \u001b[0mfunc\u001b[0m\u001b[0;34m(\u001b[0m\u001b[0;34m*\u001b[0m\u001b[0margs\u001b[0m\u001b[0;34m,\u001b[0m \u001b[0;34m**\u001b[0m\u001b[0mkwargs\u001b[0m\u001b[0;34m)\u001b[0m\u001b[0;34m\u001b[0m\u001b[0;34m\u001b[0m\u001b[0m\n\u001b[0m\u001b[1;32m    212\u001b[0m \u001b[0;34m\u001b[0m\u001b[0m\n\u001b[1;32m    213\u001b[0m         \u001b[0;32mreturn\u001b[0m \u001b[0mcast\u001b[0m\u001b[0;34m(\u001b[0m\u001b[0mF\u001b[0m\u001b[0;34m,\u001b[0m \u001b[0mwrapper\u001b[0m\u001b[0;34m)\u001b[0m\u001b[0;34m\u001b[0m\u001b[0;34m\u001b[0m\u001b[0m\n",
            "\u001b[0;32m/usr/local/lib/python3.10/dist-packages/pandas/util/_decorators.py\u001b[0m in \u001b[0;36mwrapper\u001b[0;34m(*args, **kwargs)\u001b[0m\n\u001b[1;32m    329\u001b[0m                     \u001b[0mstacklevel\u001b[0m\u001b[0;34m=\u001b[0m\u001b[0mfind_stack_level\u001b[0m\u001b[0;34m(\u001b[0m\u001b[0;34m)\u001b[0m\u001b[0;34m,\u001b[0m\u001b[0;34m\u001b[0m\u001b[0;34m\u001b[0m\u001b[0m\n\u001b[1;32m    330\u001b[0m                 )\n\u001b[0;32m--> 331\u001b[0;31m             \u001b[0;32mreturn\u001b[0m \u001b[0mfunc\u001b[0m\u001b[0;34m(\u001b[0m\u001b[0;34m*\u001b[0m\u001b[0margs\u001b[0m\u001b[0;34m,\u001b[0m \u001b[0;34m**\u001b[0m\u001b[0mkwargs\u001b[0m\u001b[0;34m)\u001b[0m\u001b[0;34m\u001b[0m\u001b[0;34m\u001b[0m\u001b[0m\n\u001b[0m\u001b[1;32m    332\u001b[0m \u001b[0;34m\u001b[0m\u001b[0m\n\u001b[1;32m    333\u001b[0m         \u001b[0;31m# error: \"Callable[[VarArg(Any), KwArg(Any)], Any]\" has no\u001b[0m\u001b[0;34m\u001b[0m\u001b[0;34m\u001b[0m\u001b[0m\n",
            "\u001b[0;32m/usr/local/lib/python3.10/dist-packages/pandas/io/parsers/readers.py\u001b[0m in \u001b[0;36mread_csv\u001b[0;34m(filepath_or_buffer, sep, delimiter, header, names, index_col, usecols, squeeze, prefix, mangle_dupe_cols, dtype, engine, converters, true_values, false_values, skipinitialspace, skiprows, skipfooter, nrows, na_values, keep_default_na, na_filter, verbose, skip_blank_lines, parse_dates, infer_datetime_format, keep_date_col, date_parser, dayfirst, cache_dates, iterator, chunksize, compression, thousands, decimal, lineterminator, quotechar, quoting, doublequote, escapechar, comment, encoding, encoding_errors, dialect, error_bad_lines, warn_bad_lines, on_bad_lines, delim_whitespace, low_memory, memory_map, float_precision, storage_options)\u001b[0m\n\u001b[1;32m    948\u001b[0m     \u001b[0mkwds\u001b[0m\u001b[0;34m.\u001b[0m\u001b[0mupdate\u001b[0m\u001b[0;34m(\u001b[0m\u001b[0mkwds_defaults\u001b[0m\u001b[0;34m)\u001b[0m\u001b[0;34m\u001b[0m\u001b[0;34m\u001b[0m\u001b[0m\n\u001b[1;32m    949\u001b[0m \u001b[0;34m\u001b[0m\u001b[0m\n\u001b[0;32m--> 950\u001b[0;31m     \u001b[0;32mreturn\u001b[0m \u001b[0m_read\u001b[0m\u001b[0;34m(\u001b[0m\u001b[0mfilepath_or_buffer\u001b[0m\u001b[0;34m,\u001b[0m \u001b[0mkwds\u001b[0m\u001b[0;34m)\u001b[0m\u001b[0;34m\u001b[0m\u001b[0;34m\u001b[0m\u001b[0m\n\u001b[0m\u001b[1;32m    951\u001b[0m \u001b[0;34m\u001b[0m\u001b[0m\n\u001b[1;32m    952\u001b[0m \u001b[0;34m\u001b[0m\u001b[0m\n",
            "\u001b[0;32m/usr/local/lib/python3.10/dist-packages/pandas/io/parsers/readers.py\u001b[0m in \u001b[0;36m_read\u001b[0;34m(filepath_or_buffer, kwds)\u001b[0m\n\u001b[1;32m    603\u001b[0m \u001b[0;34m\u001b[0m\u001b[0m\n\u001b[1;32m    604\u001b[0m     \u001b[0;31m# Create the parser.\u001b[0m\u001b[0;34m\u001b[0m\u001b[0;34m\u001b[0m\u001b[0m\n\u001b[0;32m--> 605\u001b[0;31m     \u001b[0mparser\u001b[0m \u001b[0;34m=\u001b[0m \u001b[0mTextFileReader\u001b[0m\u001b[0;34m(\u001b[0m\u001b[0mfilepath_or_buffer\u001b[0m\u001b[0;34m,\u001b[0m \u001b[0;34m**\u001b[0m\u001b[0mkwds\u001b[0m\u001b[0;34m)\u001b[0m\u001b[0;34m\u001b[0m\u001b[0;34m\u001b[0m\u001b[0m\n\u001b[0m\u001b[1;32m    606\u001b[0m \u001b[0;34m\u001b[0m\u001b[0m\n\u001b[1;32m    607\u001b[0m     \u001b[0;32mif\u001b[0m \u001b[0mchunksize\u001b[0m \u001b[0;32mor\u001b[0m \u001b[0miterator\u001b[0m\u001b[0;34m:\u001b[0m\u001b[0;34m\u001b[0m\u001b[0;34m\u001b[0m\u001b[0m\n",
            "\u001b[0;32m/usr/local/lib/python3.10/dist-packages/pandas/io/parsers/readers.py\u001b[0m in \u001b[0;36m__init__\u001b[0;34m(self, f, engine, **kwds)\u001b[0m\n\u001b[1;32m   1440\u001b[0m \u001b[0;34m\u001b[0m\u001b[0m\n\u001b[1;32m   1441\u001b[0m         \u001b[0mself\u001b[0m\u001b[0;34m.\u001b[0m\u001b[0mhandles\u001b[0m\u001b[0;34m:\u001b[0m \u001b[0mIOHandles\u001b[0m \u001b[0;34m|\u001b[0m \u001b[0;32mNone\u001b[0m \u001b[0;34m=\u001b[0m \u001b[0;32mNone\u001b[0m\u001b[0;34m\u001b[0m\u001b[0;34m\u001b[0m\u001b[0m\n\u001b[0;32m-> 1442\u001b[0;31m         \u001b[0mself\u001b[0m\u001b[0;34m.\u001b[0m\u001b[0m_engine\u001b[0m \u001b[0;34m=\u001b[0m \u001b[0mself\u001b[0m\u001b[0;34m.\u001b[0m\u001b[0m_make_engine\u001b[0m\u001b[0;34m(\u001b[0m\u001b[0mf\u001b[0m\u001b[0;34m,\u001b[0m \u001b[0mself\u001b[0m\u001b[0;34m.\u001b[0m\u001b[0mengine\u001b[0m\u001b[0;34m)\u001b[0m\u001b[0;34m\u001b[0m\u001b[0;34m\u001b[0m\u001b[0m\n\u001b[0m\u001b[1;32m   1443\u001b[0m \u001b[0;34m\u001b[0m\u001b[0m\n\u001b[1;32m   1444\u001b[0m     \u001b[0;32mdef\u001b[0m \u001b[0mclose\u001b[0m\u001b[0;34m(\u001b[0m\u001b[0mself\u001b[0m\u001b[0;34m)\u001b[0m \u001b[0;34m->\u001b[0m \u001b[0;32mNone\u001b[0m\u001b[0;34m:\u001b[0m\u001b[0;34m\u001b[0m\u001b[0;34m\u001b[0m\u001b[0m\n",
            "\u001b[0;32m/usr/local/lib/python3.10/dist-packages/pandas/io/parsers/readers.py\u001b[0m in \u001b[0;36m_make_engine\u001b[0;34m(self, f, engine)\u001b[0m\n\u001b[1;32m   1733\u001b[0m                 \u001b[0;32mif\u001b[0m \u001b[0;34m\"b\"\u001b[0m \u001b[0;32mnot\u001b[0m \u001b[0;32min\u001b[0m \u001b[0mmode\u001b[0m\u001b[0;34m:\u001b[0m\u001b[0;34m\u001b[0m\u001b[0;34m\u001b[0m\u001b[0m\n\u001b[1;32m   1734\u001b[0m                     \u001b[0mmode\u001b[0m \u001b[0;34m+=\u001b[0m \u001b[0;34m\"b\"\u001b[0m\u001b[0;34m\u001b[0m\u001b[0;34m\u001b[0m\u001b[0m\n\u001b[0;32m-> 1735\u001b[0;31m             self.handles = get_handle(\n\u001b[0m\u001b[1;32m   1736\u001b[0m                 \u001b[0mf\u001b[0m\u001b[0;34m,\u001b[0m\u001b[0;34m\u001b[0m\u001b[0;34m\u001b[0m\u001b[0m\n\u001b[1;32m   1737\u001b[0m                 \u001b[0mmode\u001b[0m\u001b[0;34m,\u001b[0m\u001b[0;34m\u001b[0m\u001b[0;34m\u001b[0m\u001b[0m\n",
            "\u001b[0;32m/usr/local/lib/python3.10/dist-packages/pandas/io/common.py\u001b[0m in \u001b[0;36mget_handle\u001b[0;34m(path_or_buf, mode, encoding, compression, memory_map, is_text, errors, storage_options)\u001b[0m\n\u001b[1;32m    854\u001b[0m         \u001b[0;32mif\u001b[0m \u001b[0mioargs\u001b[0m\u001b[0;34m.\u001b[0m\u001b[0mencoding\u001b[0m \u001b[0;32mand\u001b[0m \u001b[0;34m\"b\"\u001b[0m \u001b[0;32mnot\u001b[0m \u001b[0;32min\u001b[0m \u001b[0mioargs\u001b[0m\u001b[0;34m.\u001b[0m\u001b[0mmode\u001b[0m\u001b[0;34m:\u001b[0m\u001b[0;34m\u001b[0m\u001b[0;34m\u001b[0m\u001b[0m\n\u001b[1;32m    855\u001b[0m             \u001b[0;31m# Encoding\u001b[0m\u001b[0;34m\u001b[0m\u001b[0;34m\u001b[0m\u001b[0m\n\u001b[0;32m--> 856\u001b[0;31m             handle = open(\n\u001b[0m\u001b[1;32m    857\u001b[0m                 \u001b[0mhandle\u001b[0m\u001b[0;34m,\u001b[0m\u001b[0;34m\u001b[0m\u001b[0;34m\u001b[0m\u001b[0m\n\u001b[1;32m    858\u001b[0m                 \u001b[0mioargs\u001b[0m\u001b[0;34m.\u001b[0m\u001b[0mmode\u001b[0m\u001b[0;34m,\u001b[0m\u001b[0;34m\u001b[0m\u001b[0;34m\u001b[0m\u001b[0m\n",
            "\u001b[0;31mFileNotFoundError\u001b[0m: [Errno 2] No such file or directory: './GOOG.csv'"
          ]
        }
      ]
    }
  ]
}