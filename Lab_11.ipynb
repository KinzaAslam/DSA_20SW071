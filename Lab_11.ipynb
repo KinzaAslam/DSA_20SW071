{
  "nbformat": 4,
  "nbformat_minor": 0,
  "metadata": {
    "colab": {
      "provenance": [],
      "authorship_tag": "ABX9TyPo/CwcL+Y0BXCfznkGECSF",
      "include_colab_link": true
    },
    "kernelspec": {
      "name": "python3",
      "display_name": "Python 3"
    },
    "language_info": {
      "name": "python"
    }
  },
  "cells": [
    {
      "cell_type": "markdown",
      "metadata": {
        "id": "view-in-github",
        "colab_type": "text"
      },
      "source": [
        "<a href=\"https://colab.research.google.com/github/KinzaAslam/DSA_20SW071/blob/main/Lab_11.ipynb\" target=\"_parent\"><img src=\"https://colab.research.google.com/assets/colab-badge.svg\" alt=\"Open In Colab\"/></a>"
      ]
    },
    {
      "cell_type": "code",
      "execution_count": 9,
      "metadata": {
        "id": "mlaJD1xDL-mz"
      },
      "outputs": [],
      "source": [
        "import pandas as pd\n",
        "from sklearn.feature_extraction.text import TfidfVectorizer\n",
        "from sklearn.cluster import KMeans\n",
        "import helper"
      ]
    },
    {
      "cell_type": "code",
      "source": [
        "# Import the Movies dataset\n",
        "data = pd.read_csv('movies.csv')\n",
        "data.head()"
      ],
      "metadata": {
        "id": "Db0tPS7MOCB4",
        "outputId": "80a79608-204b-43d0-8165-a7e64a1ae1a6",
        "colab": {
          "base_uri": "https://localhost:8080/",
          "height": 206
        }
      },
      "execution_count": 10,
      "outputs": [
        {
          "output_type": "execute_result",
          "data": {
            "text/plain": [
              "   movieId                               title  \\\n",
              "0        1                    Toy Story (1995)   \n",
              "1        2                      Jumanji (1995)   \n",
              "2        3             Grumpier Old Men (1995)   \n",
              "3        4            Waiting to Exhale (1995)   \n",
              "4        5  Father of the Bride Part II (1995)   \n",
              "\n",
              "                                        genres  \n",
              "0  Adventure|Animation|Children|Comedy|Fantasy  \n",
              "1                   Adventure|Children|Fantasy  \n",
              "2                               Comedy|Romance  \n",
              "3                         Comedy|Drama|Romance  \n",
              "4                                       Comedy  "
            ],
            "text/html": [
              "\n",
              "  <div id=\"df-83fd44e1-c7d0-4dee-b200-99c1325e0e0d\" class=\"colab-df-container\">\n",
              "    <div>\n",
              "<style scoped>\n",
              "    .dataframe tbody tr th:only-of-type {\n",
              "        vertical-align: middle;\n",
              "    }\n",
              "\n",
              "    .dataframe tbody tr th {\n",
              "        vertical-align: top;\n",
              "    }\n",
              "\n",
              "    .dataframe thead th {\n",
              "        text-align: right;\n",
              "    }\n",
              "</style>\n",
              "<table border=\"1\" class=\"dataframe\">\n",
              "  <thead>\n",
              "    <tr style=\"text-align: right;\">\n",
              "      <th></th>\n",
              "      <th>movieId</th>\n",
              "      <th>title</th>\n",
              "      <th>genres</th>\n",
              "    </tr>\n",
              "  </thead>\n",
              "  <tbody>\n",
              "    <tr>\n",
              "      <th>0</th>\n",
              "      <td>1</td>\n",
              "      <td>Toy Story (1995)</td>\n",
              "      <td>Adventure|Animation|Children|Comedy|Fantasy</td>\n",
              "    </tr>\n",
              "    <tr>\n",
              "      <th>1</th>\n",
              "      <td>2</td>\n",
              "      <td>Jumanji (1995)</td>\n",
              "      <td>Adventure|Children|Fantasy</td>\n",
              "    </tr>\n",
              "    <tr>\n",
              "      <th>2</th>\n",
              "      <td>3</td>\n",
              "      <td>Grumpier Old Men (1995)</td>\n",
              "      <td>Comedy|Romance</td>\n",
              "    </tr>\n",
              "    <tr>\n",
              "      <th>3</th>\n",
              "      <td>4</td>\n",
              "      <td>Waiting to Exhale (1995)</td>\n",
              "      <td>Comedy|Drama|Romance</td>\n",
              "    </tr>\n",
              "    <tr>\n",
              "      <th>4</th>\n",
              "      <td>5</td>\n",
              "      <td>Father of the Bride Part II (1995)</td>\n",
              "      <td>Comedy</td>\n",
              "    </tr>\n",
              "  </tbody>\n",
              "</table>\n",
              "</div>\n",
              "    <div class=\"colab-df-buttons\">\n",
              "\n",
              "  <div class=\"colab-df-container\">\n",
              "    <button class=\"colab-df-convert\" onclick=\"convertToInteractive('df-83fd44e1-c7d0-4dee-b200-99c1325e0e0d')\"\n",
              "            title=\"Convert this dataframe to an interactive table.\"\n",
              "            style=\"display:none;\">\n",
              "\n",
              "  <svg xmlns=\"http://www.w3.org/2000/svg\" height=\"24px\" viewBox=\"0 -960 960 960\">\n",
              "    <path d=\"M120-120v-720h720v720H120Zm60-500h600v-160H180v160Zm220 220h160v-160H400v160Zm0 220h160v-160H400v160ZM180-400h160v-160H180v160Zm440 0h160v-160H620v160ZM180-180h160v-160H180v160Zm440 0h160v-160H620v160Z\"/>\n",
              "  </svg>\n",
              "    </button>\n",
              "\n",
              "  <style>\n",
              "    .colab-df-container {\n",
              "      display:flex;\n",
              "      gap: 12px;\n",
              "    }\n",
              "\n",
              "    .colab-df-convert {\n",
              "      background-color: #E8F0FE;\n",
              "      border: none;\n",
              "      border-radius: 50%;\n",
              "      cursor: pointer;\n",
              "      display: none;\n",
              "      fill: #1967D2;\n",
              "      height: 32px;\n",
              "      padding: 0 0 0 0;\n",
              "      width: 32px;\n",
              "    }\n",
              "\n",
              "    .colab-df-convert:hover {\n",
              "      background-color: #E2EBFA;\n",
              "      box-shadow: 0px 1px 2px rgba(60, 64, 67, 0.3), 0px 1px 3px 1px rgba(60, 64, 67, 0.15);\n",
              "      fill: #174EA6;\n",
              "    }\n",
              "\n",
              "    .colab-df-buttons div {\n",
              "      margin-bottom: 4px;\n",
              "    }\n",
              "\n",
              "    [theme=dark] .colab-df-convert {\n",
              "      background-color: #3B4455;\n",
              "      fill: #D2E3FC;\n",
              "    }\n",
              "\n",
              "    [theme=dark] .colab-df-convert:hover {\n",
              "      background-color: #434B5C;\n",
              "      box-shadow: 0px 1px 3px 1px rgba(0, 0, 0, 0.15);\n",
              "      filter: drop-shadow(0px 1px 2px rgba(0, 0, 0, 0.3));\n",
              "      fill: #FFFFFF;\n",
              "    }\n",
              "  </style>\n",
              "\n",
              "    <script>\n",
              "      const buttonEl =\n",
              "        document.querySelector('#df-83fd44e1-c7d0-4dee-b200-99c1325e0e0d button.colab-df-convert');\n",
              "      buttonEl.style.display =\n",
              "        google.colab.kernel.accessAllowed ? 'block' : 'none';\n",
              "\n",
              "      async function convertToInteractive(key) {\n",
              "        const element = document.querySelector('#df-83fd44e1-c7d0-4dee-b200-99c1325e0e0d');\n",
              "        const dataTable =\n",
              "          await google.colab.kernel.invokeFunction('convertToInteractive',\n",
              "                                                    [key], {});\n",
              "        if (!dataTable) return;\n",
              "\n",
              "        const docLinkHtml = 'Like what you see? Visit the ' +\n",
              "          '<a target=\"_blank\" href=https://colab.research.google.com/notebooks/data_table.ipynb>data table notebook</a>'\n",
              "          + ' to learn more about interactive tables.';\n",
              "        element.innerHTML = '';\n",
              "        dataTable['output_type'] = 'display_data';\n",
              "        await google.colab.output.renderOutput(dataTable, element);\n",
              "        const docLink = document.createElement('div');\n",
              "        docLink.innerHTML = docLinkHtml;\n",
              "        element.appendChild(docLink);\n",
              "      }\n",
              "    </script>\n",
              "  </div>\n",
              "\n",
              "\n",
              "<div id=\"df-6b7941dd-6b4f-46be-8ec1-efe877581828\">\n",
              "  <button class=\"colab-df-quickchart\" onclick=\"quickchart('df-6b7941dd-6b4f-46be-8ec1-efe877581828')\"\n",
              "            title=\"Suggest charts.\"\n",
              "            style=\"display:none;\">\n",
              "\n",
              "<svg xmlns=\"http://www.w3.org/2000/svg\" height=\"24px\"viewBox=\"0 0 24 24\"\n",
              "     width=\"24px\">\n",
              "    <g>\n",
              "        <path d=\"M19 3H5c-1.1 0-2 .9-2 2v14c0 1.1.9 2 2 2h14c1.1 0 2-.9 2-2V5c0-1.1-.9-2-2-2zM9 17H7v-7h2v7zm4 0h-2V7h2v10zm4 0h-2v-4h2v4z\"/>\n",
              "    </g>\n",
              "</svg>\n",
              "  </button>\n",
              "\n",
              "<style>\n",
              "  .colab-df-quickchart {\n",
              "      --bg-color: #E8F0FE;\n",
              "      --fill-color: #1967D2;\n",
              "      --hover-bg-color: #E2EBFA;\n",
              "      --hover-fill-color: #174EA6;\n",
              "      --disabled-fill-color: #AAA;\n",
              "      --disabled-bg-color: #DDD;\n",
              "  }\n",
              "\n",
              "  [theme=dark] .colab-df-quickchart {\n",
              "      --bg-color: #3B4455;\n",
              "      --fill-color: #D2E3FC;\n",
              "      --hover-bg-color: #434B5C;\n",
              "      --hover-fill-color: #FFFFFF;\n",
              "      --disabled-bg-color: #3B4455;\n",
              "      --disabled-fill-color: #666;\n",
              "  }\n",
              "\n",
              "  .colab-df-quickchart {\n",
              "    background-color: var(--bg-color);\n",
              "    border: none;\n",
              "    border-radius: 50%;\n",
              "    cursor: pointer;\n",
              "    display: none;\n",
              "    fill: var(--fill-color);\n",
              "    height: 32px;\n",
              "    padding: 0;\n",
              "    width: 32px;\n",
              "  }\n",
              "\n",
              "  .colab-df-quickchart:hover {\n",
              "    background-color: var(--hover-bg-color);\n",
              "    box-shadow: 0 1px 2px rgba(60, 64, 67, 0.3), 0 1px 3px 1px rgba(60, 64, 67, 0.15);\n",
              "    fill: var(--button-hover-fill-color);\n",
              "  }\n",
              "\n",
              "  .colab-df-quickchart-complete:disabled,\n",
              "  .colab-df-quickchart-complete:disabled:hover {\n",
              "    background-color: var(--disabled-bg-color);\n",
              "    fill: var(--disabled-fill-color);\n",
              "    box-shadow: none;\n",
              "  }\n",
              "\n",
              "  .colab-df-spinner {\n",
              "    border: 2px solid var(--fill-color);\n",
              "    border-color: transparent;\n",
              "    border-bottom-color: var(--fill-color);\n",
              "    animation:\n",
              "      spin 1s steps(1) infinite;\n",
              "  }\n",
              "\n",
              "  @keyframes spin {\n",
              "    0% {\n",
              "      border-color: transparent;\n",
              "      border-bottom-color: var(--fill-color);\n",
              "      border-left-color: var(--fill-color);\n",
              "    }\n",
              "    20% {\n",
              "      border-color: transparent;\n",
              "      border-left-color: var(--fill-color);\n",
              "      border-top-color: var(--fill-color);\n",
              "    }\n",
              "    30% {\n",
              "      border-color: transparent;\n",
              "      border-left-color: var(--fill-color);\n",
              "      border-top-color: var(--fill-color);\n",
              "      border-right-color: var(--fill-color);\n",
              "    }\n",
              "    40% {\n",
              "      border-color: transparent;\n",
              "      border-right-color: var(--fill-color);\n",
              "      border-top-color: var(--fill-color);\n",
              "    }\n",
              "    60% {\n",
              "      border-color: transparent;\n",
              "      border-right-color: var(--fill-color);\n",
              "    }\n",
              "    80% {\n",
              "      border-color: transparent;\n",
              "      border-right-color: var(--fill-color);\n",
              "      border-bottom-color: var(--fill-color);\n",
              "    }\n",
              "    90% {\n",
              "      border-color: transparent;\n",
              "      border-bottom-color: var(--fill-color);\n",
              "    }\n",
              "  }\n",
              "</style>\n",
              "\n",
              "  <script>\n",
              "    async function quickchart(key) {\n",
              "      const quickchartButtonEl =\n",
              "        document.querySelector('#' + key + ' button');\n",
              "      quickchartButtonEl.disabled = true;  // To prevent multiple clicks.\n",
              "      quickchartButtonEl.classList.add('colab-df-spinner');\n",
              "      try {\n",
              "        const charts = await google.colab.kernel.invokeFunction(\n",
              "            'suggestCharts', [key], {});\n",
              "      } catch (error) {\n",
              "        console.error('Error during call to suggestCharts:', error);\n",
              "      }\n",
              "      quickchartButtonEl.classList.remove('colab-df-spinner');\n",
              "      quickchartButtonEl.classList.add('colab-df-quickchart-complete');\n",
              "    }\n",
              "    (() => {\n",
              "      let quickchartButtonEl =\n",
              "        document.querySelector('#df-6b7941dd-6b4f-46be-8ec1-efe877581828 button');\n",
              "      quickchartButtonEl.style.display =\n",
              "        google.colab.kernel.accessAllowed ? 'block' : 'none';\n",
              "    })();\n",
              "  </script>\n",
              "</div>\n",
              "    </div>\n",
              "  </div>\n"
            ]
          },
          "metadata": {},
          "execution_count": 10
        }
      ]
    },
    {
      "cell_type": "code",
      "source": [
        "# Filter movies with Comedy and Fantasy genres\n",
        "comedy_fantasy_movies = data[data['genres'].str.contains('Comedy') & data['genres'].str.contains('Fantasy')]\n"
      ],
      "metadata": {
        "id": "4ttUbBdcOPp-"
      },
      "execution_count": 11,
      "outputs": []
    },
    {
      "cell_type": "code",
      "source": [
        "# Extract the movie titles\n",
        "movie_titles = comedy_fantasy_movies['title'].tolist()"
      ],
      "metadata": {
        "id": "1hYTnnb9OUZc"
      },
      "execution_count": 12,
      "outputs": []
    },
    {
      "cell_type": "code",
      "source": [
        "# TF-IDF vectorization\n",
        "tfidf_vectorizer = TfidfVectorizer(max_features=1000, stop_words='english')\n",
        "tfidf_matrix = tfidf_vectorizer.fit_transform(movie_titles)\n",
        ""
      ],
      "metadata": {
        "id": "WlFQMQEDOWMA"
      },
      "execution_count": 13,
      "outputs": []
    },
    {
      "cell_type": "code",
      "source": [
        "\n",
        "# Perform K-means clustering\n",
        "k = 3  # You can change the number of clusters as needed\n",
        "kmeans = KMeans(n_clusters=k)\n",
        "kmeans.fit(tfidf_matrix)"
      ],
      "metadata": {
        "id": "yFCEQt-qOZLA",
        "outputId": "da80035e-78a4-41ca-c7fa-9b5b188307e2",
        "colab": {
          "base_uri": "https://localhost:8080/",
          "height": 130
        }
      },
      "execution_count": 14,
      "outputs": [
        {
          "output_type": "stream",
          "name": "stderr",
          "text": [
            "/usr/local/lib/python3.10/dist-packages/sklearn/cluster/_kmeans.py:870: FutureWarning: The default value of `n_init` will change from 10 to 'auto' in 1.4. Set the value of `n_init` explicitly to suppress the warning\n",
            "  warnings.warn(\n"
          ]
        },
        {
          "output_type": "execute_result",
          "data": {
            "text/plain": [
              "KMeans(n_clusters=3)"
            ],
            "text/html": [
              "<style>#sk-container-id-1 {color: black;background-color: white;}#sk-container-id-1 pre{padding: 0;}#sk-container-id-1 div.sk-toggleable {background-color: white;}#sk-container-id-1 label.sk-toggleable__label {cursor: pointer;display: block;width: 100%;margin-bottom: 0;padding: 0.3em;box-sizing: border-box;text-align: center;}#sk-container-id-1 label.sk-toggleable__label-arrow:before {content: \"▸\";float: left;margin-right: 0.25em;color: #696969;}#sk-container-id-1 label.sk-toggleable__label-arrow:hover:before {color: black;}#sk-container-id-1 div.sk-estimator:hover label.sk-toggleable__label-arrow:before {color: black;}#sk-container-id-1 div.sk-toggleable__content {max-height: 0;max-width: 0;overflow: hidden;text-align: left;background-color: #f0f8ff;}#sk-container-id-1 div.sk-toggleable__content pre {margin: 0.2em;color: black;border-radius: 0.25em;background-color: #f0f8ff;}#sk-container-id-1 input.sk-toggleable__control:checked~div.sk-toggleable__content {max-height: 200px;max-width: 100%;overflow: auto;}#sk-container-id-1 input.sk-toggleable__control:checked~label.sk-toggleable__label-arrow:before {content: \"▾\";}#sk-container-id-1 div.sk-estimator input.sk-toggleable__control:checked~label.sk-toggleable__label {background-color: #d4ebff;}#sk-container-id-1 div.sk-label input.sk-toggleable__control:checked~label.sk-toggleable__label {background-color: #d4ebff;}#sk-container-id-1 input.sk-hidden--visually {border: 0;clip: rect(1px 1px 1px 1px);clip: rect(1px, 1px, 1px, 1px);height: 1px;margin: -1px;overflow: hidden;padding: 0;position: absolute;width: 1px;}#sk-container-id-1 div.sk-estimator {font-family: monospace;background-color: #f0f8ff;border: 1px dotted black;border-radius: 0.25em;box-sizing: border-box;margin-bottom: 0.5em;}#sk-container-id-1 div.sk-estimator:hover {background-color: #d4ebff;}#sk-container-id-1 div.sk-parallel-item::after {content: \"\";width: 100%;border-bottom: 1px solid gray;flex-grow: 1;}#sk-container-id-1 div.sk-label:hover label.sk-toggleable__label {background-color: #d4ebff;}#sk-container-id-1 div.sk-serial::before {content: \"\";position: absolute;border-left: 1px solid gray;box-sizing: border-box;top: 0;bottom: 0;left: 50%;z-index: 0;}#sk-container-id-1 div.sk-serial {display: flex;flex-direction: column;align-items: center;background-color: white;padding-right: 0.2em;padding-left: 0.2em;position: relative;}#sk-container-id-1 div.sk-item {position: relative;z-index: 1;}#sk-container-id-1 div.sk-parallel {display: flex;align-items: stretch;justify-content: center;background-color: white;position: relative;}#sk-container-id-1 div.sk-item::before, #sk-container-id-1 div.sk-parallel-item::before {content: \"\";position: absolute;border-left: 1px solid gray;box-sizing: border-box;top: 0;bottom: 0;left: 50%;z-index: -1;}#sk-container-id-1 div.sk-parallel-item {display: flex;flex-direction: column;z-index: 1;position: relative;background-color: white;}#sk-container-id-1 div.sk-parallel-item:first-child::after {align-self: flex-end;width: 50%;}#sk-container-id-1 div.sk-parallel-item:last-child::after {align-self: flex-start;width: 50%;}#sk-container-id-1 div.sk-parallel-item:only-child::after {width: 0;}#sk-container-id-1 div.sk-dashed-wrapped {border: 1px dashed gray;margin: 0 0.4em 0.5em 0.4em;box-sizing: border-box;padding-bottom: 0.4em;background-color: white;}#sk-container-id-1 div.sk-label label {font-family: monospace;font-weight: bold;display: inline-block;line-height: 1.2em;}#sk-container-id-1 div.sk-label-container {text-align: center;}#sk-container-id-1 div.sk-container {/* jupyter's `normalize.less` sets `[hidden] { display: none; }` but bootstrap.min.css set `[hidden] { display: none !important; }` so we also need the `!important` here to be able to override the default hidden behavior on the sphinx rendered scikit-learn.org. See: https://github.com/scikit-learn/scikit-learn/issues/21755 */display: inline-block !important;position: relative;}#sk-container-id-1 div.sk-text-repr-fallback {display: none;}</style><div id=\"sk-container-id-1\" class=\"sk-top-container\"><div class=\"sk-text-repr-fallback\"><pre>KMeans(n_clusters=3)</pre><b>In a Jupyter environment, please rerun this cell to show the HTML representation or trust the notebook. <br />On GitHub, the HTML representation is unable to render, please try loading this page with nbviewer.org.</b></div><div class=\"sk-container\" hidden><div class=\"sk-item\"><div class=\"sk-estimator sk-toggleable\"><input class=\"sk-toggleable__control sk-hidden--visually\" id=\"sk-estimator-id-1\" type=\"checkbox\" checked><label for=\"sk-estimator-id-1\" class=\"sk-toggleable__label sk-toggleable__label-arrow\">KMeans</label><div class=\"sk-toggleable__content\"><pre>KMeans(n_clusters=3)</pre></div></div></div></div></div>"
            ]
          },
          "metadata": {},
          "execution_count": 14
        }
      ]
    },
    {
      "cell_type": "code",
      "source": [
        "# Add cluster labels to the dataset\n",
        "comedy_fantasy_movies['cluster'] = kmeans.labels_"
      ],
      "metadata": {
        "id": "PlaajozKOdXw",
        "outputId": "ba784b6b-d84e-4f47-d38e-1224766c3ebc",
        "colab": {
          "base_uri": "https://localhost:8080/"
        }
      },
      "execution_count": 15,
      "outputs": [
        {
          "output_type": "stream",
          "name": "stderr",
          "text": [
            "<ipython-input-15-bd6e9c584132>:2: SettingWithCopyWarning: \n",
            "A value is trying to be set on a copy of a slice from a DataFrame.\n",
            "Try using .loc[row_indexer,col_indexer] = value instead\n",
            "\n",
            "See the caveats in the documentation: https://pandas.pydata.org/pandas-docs/stable/user_guide/indexing.html#returning-a-view-versus-a-copy\n",
            "  comedy_fantasy_movies['cluster'] = kmeans.labels_\n"
          ]
        }
      ]
    },
    {
      "cell_type": "code",
      "source": [
        "# Print movies in each cluster\n",
        "for cluster_num in range(k):\n",
        "    cluster_movies = comedy_fantasy_movies[comedy_fantasy_movies['cluster'] == cluster_num]\n",
        "    print(f\"Cluster {cluster_num + 1}:\")\n",
        "    print(cluster_movies['title'].tolist())\n",
        ""
      ],
      "metadata": {
        "id": "2Ggd1TDcOisk",
        "outputId": "7afd436d-eb62-42ba-a7b8-29e9f61f77ae",
        "colab": {
          "base_uri": "https://localhost:8080/"
        }
      },
      "execution_count": 17,
      "outputs": [
        {
          "output_type": "stream",
          "name": "stdout",
          "text": [
            "Cluster 1:\n",
            "['Ella Enchanted (2004)', '13 Going on 30 (2004)', 'Stepford Wives, The (2004)', 'P.S. (2004)', \"Lemony Snicket's A Series of Unfortunate Events (2004)\", 'Millions (2004)', 'Day Without a Mexican, A (2004)', 'Life Aquatic with Steve Zissou, The (2004)', 'Fat Albert (2004)', 'Mind Game (2004)', 'Librarian: Quest for the Spear, The (2004)', 'Citizen Dog (Mah nakorn) (2004)', 'Puppet Master vs. Demonic Toys (Puppet Master 9) (2004)', 'Secret Adventures of Gustave Klopp, The (Narco) (2004)', \"'Hellboy': The Seeds of Creation (2004)\", 'Miss Castaway and the Island Girls (2004)', 'George and the Dragon (2004)', 'Halloweentown High (2004)', '12 Days of Christmas Eve (2004)', 'A Journey into Bliss (2004)', 'Single Santa Seeks Mrs. Claus (2004)', 'Sars Wars: Bangkok Zombie Crisis (2004)', 'Daniel, the Wizard (2004)', 'I Downloaded a Ghost (2004)', 'Arahan (2004)']\n",
            "Cluster 2:\n",
            "['Toy Story (1995)', 'Kids of the Round Table (1995)', 'Reckless (1995)', 'Gordy (1995)', \"Kid in King Arthur's Court, A (1995)\", 'Santa Clause, The (1994)', 'Flintstones, The (1994)', 'Mask, The (1994)', 'Addams Family Values (1993)', 'Last Action Hero (1993)', 'Super Mario Bros. (1993)', 'Ghost (1990)', 'Window to Paris (Okno v Parizh) (1994)', 'Space Jam (1996)', 'Visitors, The (Visiteurs, Les) (1993)', 'Nutty Professor, The (1996)', 'Kazaam (1996)', \"Joe's Apartment (1996)\", 'Matilda (1996)', 'Herbie Rides Again (1974)', 'Mary Poppins (1964)', 'Willy Wonka & the Chocolate Factory (1971)', 'Drop Dead Fred (1991)', 'Monty Python and the Holy Grail (1975)', 'Lesson Faust (1994)', 'Princess Bride, The (1987)', 'Army of Darkness (1993)', 'Dead Alive (Braindead) (1992)', 'Evil Dead II (Dead by Dawn) (1987)', 'Groundhog Day (1993)', 'Young Frankenstein (1974)', 'Michael (1996)', 'Flubber (1997)', 'Borrowers, The (1997)', 'Goonies, The (1985)', 'Freaky Friday (1977)', 'Absent-Minded Professor, The (1961)', 'Devil and Max Devlin, The (1981)', 'Hocus Pocus (1993)', 'Honey, I Shrunk the Kids (1989)', 'Purple Rose of Cairo, The (1985)', 'Splash (1984)', 'All Dogs Go to Heaven (1989)', 'Addams Family, The (1991)', 'Weird Science (1985)', 'House (1986)', 'House II: The Second Story (1987)', 'Beetlejuice (1988)', 'I Married A Strange Person! (1997)', 'Toys (1992)', 'Antz (1998)', 'Pleasantville (1998)', 'Mummy, The (1999)', \"William Shakespeare's A Midsummer Night's Dream (1999)\", 'Ghostbusters II (1989)', 'Mystery Men (1999)', 'Golden Child, The (1986)', 'Big (1988)', 'Yellow Submarine (1968)', 'Time of the Gypsies (Dom za vesanje) (1989)', 'Time Bandits (1981)', 'Who Framed Roger Rabbit? (1988)', 'Being John Malkovich (1999)', 'Dogma (1999)', 'Babes in Toyland (1934)', 'Scrooged (1988)', 'Harvey (1950)', 'Fisher King, The (1991)', 'Toy Story 2 (1999)', 'Stuart Little (1999)', 'Train Ride to Hollywood (1975)', 'Death Becomes Her (1992)', 'Defending Your Life (1991)', 'Date with an Angel (1987)', 'Teenage Mutant Ninja Turtles (1990)', 'Teenage Mutant Ninja Turtles III (1993)', 'Heart and Souls (1993)', 'Hook (1991)', 'Bell, Book and Candle (1958)', 'Big Trouble in Little China (1986)', 'Adventures of Rocky and Bullwinkle, The (2000)', 'Kid, The (2000)', 'How the Grinch Stole Christmas (a.k.a. The Grinch) (2000)', 'Dungeons & Dragons (2000)', \"Emperor's New Groove, The (2000)\", 'Maid to Order (1987)', 'Down to Earth (2001)', 'Price of Milk, The (2000)', 'Monkeybone (2001)', 'Just Visiting (2001)', 'Shrek (2001)', 'Alice (1990)', '18 Again! (1988)', 'Adventures of Baron Munchausen, The (1988)', 'Milagro Beanfield War (1988)', 'Erik the Viking (1989)', 'How to Get Ahead in Advertising (1989)', \"Vampire's Kiss (1989)\", 'Phantom of the Paradise (1974)', 'Monsters, Inc. (2001)', 'Shallow Hal (2001)', 'Black Knight (2001)', 'Jabberwocky (1977)', \"Bill & Ted's Bogus Journey (1991)\", 'Morgan! (1966)', 'Little Otik (Otesánek) (2000)', 'Sex and Zen (Rou pu Tuan zhi tou Qing bao Jian) (1992)', 'Motorama (1991)', 'The Man from Acapulco (1973)', 'Rookie of the Year (1993)', 'Oh, God! (1977)', 'Scooby-Doo (2002)', 'Like Mike (2002)', 'Simone (S1m0ne) (2002)', 'Mesmerist, The (2002)', 'Modern Problems (1981)', 'Santa Clause 2, The (2002)', 'Pinocchio (2002)', 'Wiz, The (1978)', 'Bruce Almighty (2003)', 'Pirates of the Caribbean: The Curse of the Black Pearl (2003)', 'Freaky Friday (2003)', 'Discreet Charm of the Bourgeoisie, The (Charme discret de la bourgeoisie, Le) (1972)', 'Medallion, The (2003)', \"Don't Tempt Me (Sin noticias de Dios) (2001)\", 'Triplets of Belleville, The (Les triplettes de Belleville) (2003)', 'Wilder Napalm (1993)', 'Interstate 60 (2002)', 'Elf (2003)', 'Haunted Mansion, The (2003)', 'Hercules in New York (1970)', 'Mr. Destiny (1990)', 'Teen Wolf (1985)', 'Witches of Eastwick, The (1987)', \"Midsummer Night's Dream, A (1935)\", 'Juliet of the Spirits (Giulietta degli spiriti) (1965)', 'Cool World (1992)', 'Chitty Chitty Bang Bang (1968)', 'Allegro non troppo (1977)', 'Jack and the Beanstalk (1952)', 'Magic Flute, The (Trollflöjten) (1975)', 'Switch (1991)', 'Versus (2000)', 'Canterville Ghost, The (1944)', 'Bedazzled (1967)', 'The Wonderful Ice Cream Suit (1998)', '*batteries not included (1987)', 'Arizona Dream (1993)', 'Robot Carnival (Roboto kânibauru) (1987)', 'Chipmunk Adventure, The (1987)', 'Luna Papa (1999)', 'Into the Woods (1991)', 'All of Me (1984)', 'Exterminating Angel, The (Ángel exterminador, El) (1962)', 'Book of Life, The (1998)', 'Two of a Kind (1983)', \"Unidentified Flying Oddball (a.k.a. Spaceman and King Arthur, The) (a.k.a. Spaceman in King Arthur's Court, A) (1979)\", 'Sherlock Jr. (1924)', 'Son of Kong, The (1933)', 'Topper (1937)', 'Here Comes Mr. Jordan (1941)', 'Heaven Can Wait (1943)', 'Wonderful World of the Brothers Grimm, The (1962)', 'Head (1968)', \"Twelve Tasks of Asterix, The (Les douze travaux d'Astérix) (1976)\", 'Mr. Vampire (Geung si sin sang) (1985)', 'Ghost Dad (1990)', 'Mannequin 2: On the Move (1991)', 'Porco Rosso (Crimson Pig) (Kurenai no buta) (1992)', 'Picking Up the Pieces (2000)', 'Monday (2000)', 'Revolutionary Girl Utena: Adolescence of Utena (a.k.a. Revolutionary Girl Utena the Movie) (Shoujo kakumei Utena: Adolescence mokushiroku) (1999)', 'Asterix & Obelix: Mission Cleopatra (Astérix & Obélix: Mission Cléopâtre) (2002)', 'Nothing (2003)', 'Vampire Effect (The Twins Effect) (Chin gei bin) (2003)', 'Saddest Music in the World, The (2003)', 'Charlie and the Chocolate Factory (2005)', 'I Married a Witch (1942)', 'Son of the Mask (2005)', 'Topper Returns (1941)', 'Gory Gory Hallelujah (2003)', 'Robots (2005)', 'God Is Brazilian (Deus É Brasileiro) (2003)', 'Thief and the Cobbler, The (a.k.a. Arabian Knight) (1995)', 'Arabian Nights (Il fiore delle mille e una notte) (1974)', \"Boccaccio '70 (1962)\", 'Miracle in Milan (Miracolo a Milano) (1951)', 'On Borrowed Time (1939)', 'DuckTales: The Movie - Treasure of the Lost Lamp (1990)', 'Bewitched (2005)', 'Three Stooges Meet Hercules, The (1962)', 'Asterix & Obelix vs. Caesar (Astérix et Obélix contre César) (1999)', 'Valiant (2005)', 'Brothers Grimm, The (2005)', 'Just Like Heaven (2005)', 'Born in Flames (1983)', 'Corpse Bride (2005)', 'Münchhausen (1943)', 'Great Yokai War, The (Yôkai daisensô) (2005)', 'Casper Meets Wendy (1998)', 'Bird People in China, The (Chûgoku no chôjin) (1998)', 'Nanny McPhee (2005)', 'Troll (1986)', 'Aquamarine (2006)', 'Leprechaun 2 (1994)', 'Leprechaun 3 (1995)', 'Leprechaun 4: In Space (1997)', 'Shaggy Dog, The (2006)', \"Santa's Slay (2005)\", 'Wild, The (2006)', 'Click (2006)', 'My Super Ex-Girlfriend (2006)', 'Scoop (2006)', 'Night at the Museum (2006)', 'Stranger than Fiction (2006)', 'Ant Bully, The (2006)', 'Zoom (2006)', 'Tom, Dick and Harry (1941)', 'Blithe Spirit (1945)', 'Angel-A (2005)', 'Icicle Thief, The (Ladri di saponette) (1989)', 'Science of Sleep, The (La science des rêves) (2006)', 'Wonder Man (1945)', 'Santa Clause 3: The Escape Clause, The (2006)', \"Charlotte's Web (2006)\", 'Bothersome Man, The (Brysomme mannen, Den) (2006)', 'House (Hausu) (1977)', 'TMNT (Teenage Mutant Ninja Turtles) (2007)', 'How the Grinch Stole Christmas! (1966)', 'Aqua Teen Hunger Force Colon Movie Film for Theaters (2007)', 'Shrek the Third (2007)', \"Pirates of the Caribbean: At World's End (2007)\", 'Legend of Sleepy Hollow, The (1980)', 'O Lucky Man! (1973)', 'Evan Almighty (2007)', 'Stardust (2007)', 'Underdog (2007)', 'Good Night, The (2007)', 'Fred Claus (2007)', \"Mr. Magorium's Wonder Emporium (2007)\", 'Enchanted (2007)', 'Savages (1972)', 'Over Her Dead Body (2008)', 'Penelope (2006)', 'Slipstream (2007)', \"Nim's Island (2008)\", 'Forbidden Kingdom, The (2008)', 'Hancock (2008)', 'Machine Girl, The (Kataude mashin gâru) (2008)', 'Spirit, The (2008)', 'Ghost Town (2008)', 'American Carol, An (2008)', 'Deux mondes, Les (2007)', 'Shrek the Halls (2007)', 'Delgo (2008)', 'Tale of Despereaux, The (2008)', 'Gamers, The: Dorkness Rising (2008)', 'Rhinoceros (1974)', 'Imagine That (2009)', 'Ghosts of Girlfriends Past (2009)', 'Night of the Living Dead 3D (2006)', 'Corridors of Time: The Visitors II, The (Couloirs du temps: Les visiteurs 2, Les) (1998)', 'Days of Darkness (2007)', 'Forever, Darling (1956)', 'Yatterman (Yattâman) (2009)', 'Dimensions of Dialogue (Moznosti dialogu) (1982)', 'Darkness/Light/Darkness (Tma/Svetlo/Tma) (1989)', \"Cirque du Freak: The Vampire's Assistant (2009)\", 'Introduction to Physics, An (2009)', 'Partly Cloudy (2009)', \"Mickey's Once Upon a Christmas (1999)\", 'Looking for Eric (2009)', 'Asterix at the Olympic Games (Astérix aux jeux olympiques) (2008)', 'Four Eyed Monsters (2005)', 'Tooth Fairy (2010)', \"Devil's Eye, The (Djävulens öga) (1960)\", 'Wrestler, The (Painija) (1985)', 'Mermaid, The (Rusalka) (2007)', 'It Happened Tomorrow (1944)', 'Toy Story 3 (2010)', 'Aladin (2009)', 'Shrek Forever After (a.k.a. Shrek: The Final Chapter) (2010)', 'Princess Raccoon (Operetta tanuki goten) (2005)', 'TiMER (2009)', 'Didier (1997)', 'Leslie, My Name is Evil (Manson, My Name is Evil) (2009)', \"Sorcerer's Apprentice, The (2010)\", 'Pont du Nord, Le (1981)', 'Wizard of Oz, The (1925)', 'Nanny McPhee Returns (a.k.a. Nanny McPhee and the Big Bang) (2010)', 'Scott Pilgrim vs. the World (2010)', 'Symbol (Shinboru) (2009)', 'Ricky (2009)', 'Jerry Springer: The Opera (2005)', 'Road, Movie (2009)', 'Witch Way Love (Un amour de sorcière) (1997)', 'Man Who Could Work Miracles, The (1936)', 'Tangled (2010)', \"Gulliver's Travels (2010)\", 'Topper Takes a Trip (1938)', 'Green Hornet, The (2011)', 'Zotz! (1962)', 'Strongest Man in the World, The (1975)', 'Gnomeo & Juliet (2011)', 'Luck of the Irish, The (1948)', 'Tempest, The (2010)', 'Scooby-Doo! The Mystery Begins (2009)', 'Ali Baba Goes to Town (1937)', 'Midnight in Paris (2011)', 'Your Highness (2011)', 'Miranda (1948)', 'That Lady in Ermine (1948)', 'Skeletons (2010)', 'Puss in Boots (2011)', 'Asterix and the Vikings (Astérix et les Vikings) (2006)', \"Midsummer Night's Dream, A (1968)\", 'Girl Walks Into a Bar (2011)', 'Mr. Bug Goes to Town (1941)', 'Magic Christmas Tree, The (1964)', 'Puss in Boots (Nagagutsu o haita neko) (1969)', 'Overcoat, The (Il cappotto) (1952)', 'Nothing Lasts Forever (1984) ', 'Mirror Mirror (2012)', 'Woochi: The Demon Slayer (2009)', 'Presto (2008)', 'Ted (2012)', 'Vampires (2010)', 'Goodbye Charlie (1964)', 'Ruby Sparks (2012)', 'Odd Life of Timothy Green, The (2012)', 'Deathstalker II (1987)', 'Kismet (1955)', 'My Left Eye Sees Ghosts (Ngo joh aan gin diy gwai) (2002)', 'Viy or Spirit of Evil (Viy) (1967)', 'Glamorous Life of Sachiko Hanai, The (Hatsujô kateikyôshi: sensei no aijiru) (2003)', 'Jungle de Ikou (Jungre de Ikou) (1997)', 'John Dies at the End (2012)', \"It's Such a Beautiful Day (2012)\", 'Journey to the West: Conquering the Demons (Daai wa sai you chi Chui mo chun kei) (2013)', 'Soulkeeper (2001)', 'Brass Teapot, The (2012)', 'Machine That Kills Bad People, The (La Macchina Ammazzacattivi) (1952)', 'Polly of the Circus (1932)', 'Holy Flame of the Martial World (1983)', 'After School Midnighters (Hôkago middonaitâzu) (2012)', 'Rapture-Palooza (2013)', 'Death of Maria Malibran, The (Der Tod der Maria Malibran) (1972)', 'Projectionist, The (1971)', 'Chu Chin Chow (1934)', 'Tai Chi Hero (2012)', 'Zombies on Broadway (1945)', 'R.I.P.D. (2013)', 'Turbo (2013)', 'Karate-Robo Zaborgar (Denjin Zabôgâ) (2011)', 'Cloudy with a Chance of Meatballs 2 (2013)', 'Day of the Crows, The (Le jour des corneilles) (2012)', 'One Piece Film: Strong World (2009)', 'Bad Biology (2008)', 'Frozen (2013)', 'Urusei Yatsura Movie 2: Beautiful Dreamer (Urusei Yatsura 2: Byûtifuru dorîmâ) (1984)', 'The Lego Movie (2014)', 'Knights of Badassdom (2013)', 'Wizard of Baghdad, The (1960)', 'Man from the Future, The (O Homem do Futuro) (2011)', 'Me Two (Personne aux deux personnes, La) (2008)', 'Angels in the Outfield (1951)', 'Vampire Academy (2014)', 'Bye Bye Monkey (Ciao maschio) (1978)', 'Hellphone (2007)', 'Ghost Goes West, The (1935)', 'Food (Jídlo) (1993)', 'Bad Johnson (2014)', 'Aladdin (1992)', 'Boxtrolls, The (2014)', 'Mount Head (Atama yama) (2002)', 'Donkey Hide (Oslinaya shkura) (1982)', 'Toy Story Toons: Hawaiian Vacation (2011)', 'Toy Story Toons: Small Fry (2011)', 'Those Fantastic Flying Fools (1967)', 'The Magic Crystal (2011)', \"A Connecticut Yankee in King Arthur's Court (1989)\", 'Santa Who? (2000)', 'Dr. Dolittle: Million Dollar Mutts (2009)', 'Dr. Dolittle: Tail to the Chief (2008)', 'Dragonheart 2: A New Beginning (2000)', 'The Love Factor (1969)', 'High Test Girls (1980)', 'A Husband of Round Trip (1957)', 'A Chairy Tale (1957)', 'Into the Woods (2014)', 'Night at the Museum: Secret of the Tomb (2014)', '12 Dates of Christmas (2011)', '12 Wishes of Christmas (2011)', 'Chasing Christmas (2005)', 'Fearless Frank (1967)', 'Miss Minoes (2001)', 'PK (2014)', \"For Heaven's Sake (1950)\", 'Miss Granny (2014)', \"Garfield's Fun Fest (2008)\", 'Super Capers (2009)', 'Shinbone Alley (1970)', 'Santos (2008)', 'The Magical Legend of the Leprechauns (1999)', 'Leprechaun: Back 2 Tha Hood (2003)', 'Highway to Hell (1991)', 'Over My Dead Body (1995)', 'Wired (1989)', 'Christmas Every Day (1996)', 'Lisztomania (1975)', 'Super Stooges vs the Wonder Women (1974)', 'Whiskers (1997)', 'Stuart Little 3: Call of the Wild (2005)', 'The Time of Their Lives (1946)', \"Mister Magoo's Christmas Carol (1962)\", 'More Than a Miracle (1967)', 'My Brother the Pig (1999)', 'The Gamers: Hands of Fate (2013)', 'Scrooge (1935)', 'Poor Little Rich Girl, The (1917)', 'Mad About Men (1954)', \"Kermit's Swamp Years (2002)\", 'Snow White and the Three Stooges (1961)', 'Lovesick (1983)', 'Halloweentown (1998)', \"Halloweentown II: Kalabar's Revenge (2001)\", 'The Black Devil (1905)', '1001 Nights (1990)', \"Daddy, I'm A Zombie (2012)\", 'Fantomas (Fantômas) (1964)', 'Fantomas Unleashed (Fantômas se déchaîne) (1965)', 'Fantomas vs. Scotland Yard (Fantômas contre Scotland Yard) (1967)', 'Teen Spirit (2011)', 'Evenings on a Farm near Dikanka (1961)', 'When Good Ghouls Go Bad (2001)', 'Il piccolo diavolo (1988)', 'Shadow (1971)', 'The Adventures of Hercules (1985)', 'The Heavenly Kid (1985)', 'Sylvia and the Ghost (1946)', 'Younger and Younger (1993)', 'Lovestruck: The Musical (2013)', 'The Clowns (1970)', 'Wu yen (2001)', 'The Gamers (2002)', 'Cardcaptor Sakura: The Sealed Card (2000)', \"Ghosts Can't Do It (1989)\", 'Hui Buh: The Castle Ghost (2006)', 'Brother Bear 2 (2006)', 'Sabrina the Teenage Witch (1996)', 'Jellyfish Eyes (2013)', 'Willy/Milly (1986)', 'Seventeen Again (2000)', 'That Munchhausen (1979)', 'The Last Days of the World (Sekai saigo no hibi) (2011)', 'Chatterbox! (1977)', 'Ruudi (2006)', 'Will Our Heroes Be Able to Find Their Friend Who Has Mysteriously Disappeared in Africa? (1968)', 'Strigoi (2009)', 'Problem Child 3 (1995)', 'Encounters of the Spooky Kind (1980)', 'Sidekick (2005)', 'Bhoothnath Returns (2014)', 'Chanbara Striptease (2008)', 'Scooby-Doo! Mask of the Blue Falcon (2012)', 'Nos Amis Les Terriens (2007)', 'Three Daughters (Teen Kanya) (1961)', 'The Other Me (2000)', \"The Man Who Wasn't There (1983)\", 'Charley and the Angel (1973)', 'Khottabych (2006)', 'Malicious (1973)', 'Supersonic Man (1979)', 'Move (1970)', 'Ordinary Miracle (1978)', 'Mrs. Miracle (2009)', 'The Infernal Cakewalk (1903)', 'Christmas Cupid (2010)', 'Return to Halloweentown (2006)', 'Little Witch Academia (2013)', 'Jack and the Beanstalk (2010)', 'Iron Sky the Coming Race (2016)', 'Manam (2014)', 'Patch Town (2014)', 'The House That Swift Built (1982)', 'Cinderella (1947)', 'Tears Were Falling (1982)', 'Princes and Princesses (2000)', 'Velociraptor (2014)', 'Beauties of the Night (1952)', 'Magicians (1982)', 'The Witch Returns to Life (1952)', 'Dark Rising 2:  Summer Strikes Back (2011)', 'Petey Wheatstraw (1977)', 'A Chinese Ghost Story III (1991)', 'Wizards of Waverly Place: The Movie (2009)', 'Dinosaur Island (1994)', 'Mr. Peabody and the Mermaid (1948)', 'Christmas Town (2008)', \"Akko's Secret (2012)\", 'A.R.O.G. (2008)', 'The Love Bug (1997)', 'The Lord of Catan (2014)', 'Prehysteria! (1993)', 'Prehysteria! 2 (1994)', 'Prehysteria! 3 (1995)', 'My Boyfriend an Angel (2011)', 'Mafalda - La Pelicula (1981)', 'The Tender Enemy (1936)', 'Mr. St. Nick (2002)', 'They Are All Dead (2014)', 'Rabbits (2002)', 'Love on the Ground (1984)', 'Long Live Ghosts! (1977)', 'Tears for Sale (2008)', 'Pyšná princezna (1952)', 'The Tale of the Fox (1937)', 'Mockingbird Lane (2012)', \"The Jester's Tale (1964)\", 'The Sensuous Teenager (1971)', 'Dangerous Invitations (2002)', 'Invisible Mom (1997)', 'Wool 100% (2006)', 'The Mermaid (2016)', 'Dream of a Rarebit Fiend (1906)', 'Smorgasbord (1983)', 'Fatty Finn (1980)', 'Slayers Premium (2001)', 'Slayers Return (1996)', 'Slayers Great (1997)', 'Slayers Gorgeous (1998)', 'Slayers: The Motion Picture (1995)', 'Gestalt (1997)', 'Zapped (2014)', 'Once Upon a Time (1944)', 'Sheitan Warrior (2006)', 'A Knight in Camelot (1998)', \"Adam Green's Aladdin (2016)\", 'The Portal (2014)', 'Soul Music (1997)', 'Gormenghast (2000)', 'Pufnstuf (1970)', '1st Bite (2006)', 'When Women Had Tails (1970)', \"I'm Staying (2007)\", \"My Babysitter's a Vampire (2010)\", 'Twitches (2005)', 'Maximum Ride (2016)', 'Pastorela (2011)', 'Wicked Stepmother (1989)', 'Elf Bowling the Movie (2007)', 'Merry In-Laws (2012)', 'Confessions of an Ugly Stepsister (2002)', 'Aschenputtel (1955)', 'Christmas Do-Over (2006)', 'While You Were Fighting: A Thor Mockumentary (2016)', 'The Club of the Misunderstood (2014)', 'Marvel One-Shot: All Hail the King (2014)', 'Nikitich and The Dragon (2006)', 'Moana (2016)', 'The Gamers: Natural One (2014)', 'Sam (2016)', 'Suburban Knights (2011)', 'Le passe-muraille (2016)', 'Munchie Strikes Back (1994)', 'Prevenge (2016)', 'The Secret of Arkandias (2014)', 'The Watermill Princess (1994)', \"The Good Witch's Garden (2009)\", 'Strange Frequency (2001)', 'Out of the Dark (1995)', 'Bad Kids of Crestview Academy (2017)', 'Make-Out with Violence (2008)', 'The Wild Women of Wongo (1958)', 'True True Lie (2006)', 'Life-Size (2000)', 'Love on the Run (1936)', 'The Wonderful Wizard of Oz (1910)', 'Rufus 2 (2017)', 'Korgoth of Barbaria (2006)', 'Excursion to the Moon (1908)', 'Sweet Rain: Accuracy of Death (2008)', 'Surviving Life (Theory and Practice) (2010)', 'Wandering Sagittarius (1993)', 'The Stone Raft (2002)', 'Miracle Beach (1992)', 'Meet The Santas (2005)', 'Deal of a Lifetime (1999)', \"Before You Say 'I Do' (2009)\", 'A Tale of Lost Times (1964)', 'Lovey-Dovey 2 (2008)', \"Last Year's Snow Was Falling (1983)\", 'Lovey-Dovey (2007)', 'Chelovek, kotoryy znal vsyo (2009)', 'That still Karloson! (2012)', 'Father Frost (1964)', 'Wow! A Talking Fish! (1983)', 'Kaos (1984)', 'The Giant King (2012)', 'The Imaginary Voyage (1926)', 'A Tale of Legendary Libido (2008)', 'The Sandman (2011)', \"Jupiter's Thunderballs (1903)\", 'Apparitions (1903)', 'The Merry Frolics of Satan (1906)', 'Diabolical Pickpocket (1908)', \"The '?' Motorist (1906)\", 'The Bewitched Shepherd (1906)', \"The 'Teddy' Bears (1907)\", 'The Vacuum Cleaner (1908)', 'An Awful Symphony (1909)', 'Brains Repaired (1911)', 'Lovey-Dovey 3 (2011)', 'Adventures of William Tell (1898)', 'The Dragon Spell (2016)', 'King Size (1988)', 'The Devil in a Convent (1899)', 'Nude on the Moon (1961)', 'Vampires in Havana (1985)', 'The Return of Captain Invincible (1983)', 'Phillauri (2017)', 'A Black Rose Is an Emblem of Sorrow, a Red Rose an Emblem of Love (1989)', 'The Man with the Rubber Head (1901)', 'The Hilarious Posters (1906)', 'The Devilish Tenant (1909)', 'The Fat and Lean Wrestling Match (1900)', 'Albion: The Enchanted Stallion (2016)', 'One Piece: The Movie (2000)', \"Scullion's Dream (1908)\", 'The Refrigerator (1991)', 'Puss in Book: Trapped in an Epic Tale (2017)', 'Trinity Seven - Eternity Library & Alchemic Girl (2017)', 'Dark Rising (2007)', 'Slashers (2001)', 'Ghosts of Rome (1961)', 'When the Cat Comes (1963)', 'Ooga Booga (2013)', 'Unicorn Store (2017)', \"What's the Matter with Gerald? (2016)\", 'Prince Charming (2001)', 'The Lost Letter (1972)', 'The Sex Trip (2017)', 'Pokémon the Movie: I Choose You! (2017)', \"A Connecticut Yankee in King Arthur's Court (1949)\", 'Snowflake (2017)', 'Down to Earth (1947)', 'Francis Goes to the Races (1951)', 'I Married an Angel (1942)', 'It Had to Be You (1947)', 'Dr. Caligari (1989)', 'Dead Man Tells His Own Tale (2016)', \"Olaf's Frozen Adventure (2017)\", 'Porky in Wackyland (1938)', 'The Carmilla Movie (2017)', 'Hysterical (1983)', 'A Mom for Christmas (1990)', 'Tomorrow Ever After (2017)', 'The Mysterious Castle in the Carpathians (1981)', 'The Patchwork Girl of Oz (1914)', 'His Majesty, the Scarecrow of Oz (1914)', 'Give Me Back My Skin (1980)', 'Meow (2017)', 'Momo (1986)', 'The Doll (1919)', 'Zombillénium (2017)', 'Sherlock Gnomes (2018)', 'Hanson and the Beast (2017)', 'Kiri-Kis (1907)', 'JourneyQuest (2010)', 'Arabesque (1989)', 'Soccer Killer (2017)', 'Tangled: Before Ever After (2017)', 'Trolls Holiday (2017)', 'The Wizard of Speed and Time (1979)', 'Status Update (2018)', 'The Cleanse (2018)', 'House Under the Starry Skies (1991)', 'Neil Stryker and The Tyrant of Time (2017)', 'The Horn Blows at Midnight (1945)', 'Spreading Darkness (2017)', 'Day-O (1992)', 'Zoando na TV (1999)', 'The Adventures of the Yellow Suitcase (1970)', 'Sorry to Bother You (2018)', 'Ant-Man and the Wasp (2018)', 'Hotel Transylvania 3: Summer Vacation (2018)', 'The Man Who Killed Don Quixote (2018)', 'Diamantino (2018)', 'The Real Tale (2011)', 'Waxwork II: Lost in Time (1992)', 'Vincent (2014)', 'How Long Will I Love U (2018)', 'Sixty Million Dollar Man (1995)', 'Legend of the Naga Pearls (2017)', 'A Family Thanksgiving (2010)', 'The Night of the Virgin (2016)', 'The Three Kings (2001)', 'Angel (2005)', 'Angel 2 (2016)', \"The Muppets' Wizard of Oz (2005)\", 'Einstein-Rosen (2016)', 'Redwall The Movie (2000)', 'Goosebumps: Haunted Halloween (2018)', 'Angels in the Infield (2000)', 'Mrs. Hyde (2018)', 'Penguin Highway (2018)', 'All You Can Eat Buddha (2017)', 'Once Upon a Time, Cinema (1992)', 'The Meeting Point (1989)', 'A Talking Cat!?! (2013)', 'Black Butler: Book of the Atlantic (2017)', 'No Game No Life: Zero (2017)', 'Earthbound (2013)', 'Book of Dragons (2011)', 'Bread and Circus (2003)', 'CreepTales (1989)', \"Shoot Loud, Louder... I Don't Understand (1966)\", 'The Iron Man (1974)', \"The Last Sharknado: It's About Time (2018)\", 'Территория Джа', 'The Dark Power (1985)', 'The Ghost of Lord Farquaad (2003)', 'Vidar the Vampire (2017)', 'Relaxer (2018)', 'The Christmas Chronicles (2018)', 'Dofus - Book I: Julith (2016)', 'Urusei Yatsura 3: Remember My Love (1985)', 'Urusei Yatsura 4: Lum the Forever (1986)', 'Welcome to Marwen (2018)', 'The Face You Deserve (2005)', 'Leprechaun Returns (2018)', 'The Man from Nowhere (1961)', 'Dreams (1993)', 'Party Central (2014)', 'Shrek Retold (2018)', 'Dragons: Dawn Of The Dragon Racers (2014)', 'Bernard and the Genie (1991)', 'To Want to Fly (1991)', 'What Men Want (2019)', 'Bewitched (1981)', 'The Shanty Where Santy Claus Lives (1933)', \"Isn't It Romantic (2019)\", 'Sing My Life (2016)', 'Cleopatra (1970)', 'Santa Jaws (2018)', 'Here Comes the Grump (2018)', 'The Woman of Everyone (1969)', 'The Woman with Red Boots (1974)', 'The Widowed Witch (2017)', 'The Merry Maids of Madness (2016)', \"Heaven's Lost Property the Movie: The Angeloid of Clockwork (2011)\", 'Naruto the Movie: Legend of the Stone of Gelel (2005)', 'Little (2019)', 'Wonder Park (2019)', 'Missing Link (2019)', 'The Dude in Me (2019)', 'Les Charlots contre Dracula (1980)', 'Do You Like to Read? (2012)', 'Switching - Goodbye Me (2007)', 'Lucky Loser (2012)', 'The Miracle of P. Tinto (1998)', 'A Bomb Was Stolen (1961)', 'Francis Joins the WACS (1954)', 'Miracles of Thursday (1957)', 'UglyDolls (2019)', 'Accumulator 1 (1994)', 'Girl from Phantasia (1993)', 'Extra Ordinary. (2019)', 'Jinxed (2013)', 'Hells (2008)', 'Nezha (2019)', 'The Soul-Mate (2018)', '7 Main Wishes (2013)', 'Love on a Leash (2011)', 'Evil Bong 777 (2018)', 'Frozen II (2019)', 'The Addams Family (2019)', 'The Cook in Trouble (1904)', 'Lovely Trash (2019)', 'The Immortal Woman (1993)', 'Os Trapalhões no Reino da Fantasia (1985)', 'Simão, o Fantasma Trapalhão (1998)', 'Little Miss Dolittle (2018)', 'Everything Is Terrible! Presents: The Great Satan (2017)', 'Super Xuxa Contra o Baixo Astral (1988)']\n",
            "Cluster 3:\n",
            "['The Cobbler (2015)', 'Home (2015)', 'Kung Fury (2015)', 'Inside Out (2015)', 'Krampus (2015)', 'The Good Dinosaur (2015)', 'Anomalisa (2015)', 'Monster Hunt (2015)', 'Liza, the Fox-Fairy (2015)', 'L.A. Slasher (2015)', 'Invisible Sister (2015)', 'Jem and the Holograms (2015)', 'Monkey King: Hero Is Back (2015)', 'Welcome to Happiness (2015)', 'Dudes & Dragons (2015)', 'Kryptonita (2015)', 'Love & Peace (2015)', 'All She Wishes (2015)', 'he takes the pills (2015)', 'Three Heroes and Julius Caesar (2015)', 'Lace Crater (2015)', 'Little Witch Academia: The Enchanted Parade (2015)', 'Watch Over Us (2015)', 'Influence (2015)', 'Ana Maria in Novela Land (2015)', 'With Left Hand Only (2015)']\n"
          ]
        }
      ]
    }
  ]
}